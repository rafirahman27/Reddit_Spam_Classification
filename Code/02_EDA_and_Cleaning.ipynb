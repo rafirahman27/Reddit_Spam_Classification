{
 "cells": [
  {
   "cell_type": "markdown",
   "id": "f0ba2297",
   "metadata": {},
   "source": [
    "### Imports"
   ]
  },
  {
   "cell_type": "code",
   "execution_count": 1,
   "id": "116ca1f4",
   "metadata": {},
   "outputs": [],
   "source": [
    "# Libraries\n",
    "import pandas as pd\n",
    "import numpy as np\n",
    "import matplotlib.pyplot as plt\n",
    "import seaborn as sns\n",
    "import re\n",
    "\n",
    "from sklearn.feature_extraction.text import CountVectorizer"
   ]
  },
  {
   "cell_type": "code",
   "execution_count": 2,
   "id": "277afb78",
   "metadata": {},
   "outputs": [],
   "source": [
    "# Data\n",
    "spamposts = pd.read_csv('../Data/spam_post_data.csv')\n",
    "moviereviews = pd.read_csv('../Data/moviereview_post_data.csv')"
   ]
  },
  {
   "cell_type": "markdown",
   "id": "c8d94fad",
   "metadata": {},
   "source": [
    "### Cleaning"
   ]
  },
  {
   "cell_type": "markdown",
   "id": "8d245b55",
   "metadata": {},
   "source": [
    "#### Spam df cleaning"
   ]
  },
  {
   "cell_type": "code",
   "execution_count": 3,
   "id": "0139ac80",
   "metadata": {},
   "outputs": [
    {
     "data": {
      "text/html": [
       "<div>\n",
       "<style scoped>\n",
       "    .dataframe tbody tr th:only-of-type {\n",
       "        vertical-align: middle;\n",
       "    }\n",
       "\n",
       "    .dataframe tbody tr th {\n",
       "        vertical-align: top;\n",
       "    }\n",
       "\n",
       "    .dataframe thead th {\n",
       "        text-align: right;\n",
       "    }\n",
       "</style>\n",
       "<table border=\"1\" class=\"dataframe\">\n",
       "  <thead>\n",
       "    <tr style=\"text-align: right;\">\n",
       "      <th></th>\n",
       "      <th>created_utc</th>\n",
       "      <th>title</th>\n",
       "      <th>self_text</th>\n",
       "      <th>subreddit</th>\n",
       "    </tr>\n",
       "  </thead>\n",
       "  <tbody>\n",
       "    <tr>\n",
       "      <th>0</th>\n",
       "      <td>1.697589e+09</td>\n",
       "      <td>Is my friend about to be scammed?</td>\n",
       "      <td>Friend of mine from back in Uni (before we mov...</td>\n",
       "      <td>Scams</td>\n",
       "    </tr>\n",
       "    <tr>\n",
       "      <th>1</th>\n",
       "      <td>1.697586e+09</td>\n",
       "      <td>Just Delt with an AirBnB Scam anyone can do an...</td>\n",
       "      <td>Apparently you can instant book seasonal renta...</td>\n",
       "      <td>Scams</td>\n",
       "    </tr>\n",
       "    <tr>\n",
       "      <th>2</th>\n",
       "      <td>1.697586e+09</td>\n",
       "      <td>Spam caller knew my name and 'address' but it ...</td>\n",
       "      <td>First off I am new to posting on Reddit so ple...</td>\n",
       "      <td>Scams</td>\n",
       "    </tr>\n",
       "    <tr>\n",
       "      <th>3</th>\n",
       "      <td>1.697587e+09</td>\n",
       "      <td>I am waiting on a package…</td>\n",
       "      <td>So, I got this text message and I’m trying to ...</td>\n",
       "      <td>Scams</td>\n",
       "    </tr>\n",
       "    <tr>\n",
       "      <th>4</th>\n",
       "      <td>1.697586e+09</td>\n",
       "      <td>Snapchat Minor Solicitation Scam?</td>\n",
       "      <td>Added a girl on Snapchat from Omegle. Look at ...</td>\n",
       "      <td>Scams</td>\n",
       "    </tr>\n",
       "  </tbody>\n",
       "</table>\n",
       "</div>"
      ],
      "text/plain": [
       "    created_utc                                              title  \\\n",
       "0  1.697589e+09                  Is my friend about to be scammed?   \n",
       "1  1.697586e+09  Just Delt with an AirBnB Scam anyone can do an...   \n",
       "2  1.697586e+09  Spam caller knew my name and 'address' but it ...   \n",
       "3  1.697587e+09                         I am waiting on a package…   \n",
       "4  1.697586e+09                  Snapchat Minor Solicitation Scam?   \n",
       "\n",
       "                                           self_text subreddit  \n",
       "0  Friend of mine from back in Uni (before we mov...     Scams  \n",
       "1  Apparently you can instant book seasonal renta...     Scams  \n",
       "2  First off I am new to posting on Reddit so ple...     Scams  \n",
       "3  So, I got this text message and I’m trying to ...     Scams  \n",
       "4  Added a girl on Snapchat from Omegle. Look at ...     Scams  "
      ]
     },
     "execution_count": 3,
     "metadata": {},
     "output_type": "execute_result"
    }
   ],
   "source": [
    "spamposts.head()"
   ]
  },
  {
   "cell_type": "code",
   "execution_count": 4,
   "id": "26367387",
   "metadata": {},
   "outputs": [
    {
     "data": {
      "text/plain": [
       "(8453, 4)"
      ]
     },
     "execution_count": 4,
     "metadata": {},
     "output_type": "execute_result"
    }
   ],
   "source": [
    "spamposts.shape"
   ]
  },
  {
   "cell_type": "code",
   "execution_count": 5,
   "id": "86968036",
   "metadata": {},
   "outputs": [
    {
     "data": {
      "text/plain": [
       "created_utc       0\n",
       "title             0\n",
       "self_text      3528\n",
       "subreddit         0\n",
       "dtype: int64"
      ]
     },
     "execution_count": 5,
     "metadata": {},
     "output_type": "execute_result"
    }
   ],
   "source": [
    "spamposts.isna().sum()"
   ]
  },
  {
   "cell_type": "code",
   "execution_count": 6,
   "id": "06a5a9ac",
   "metadata": {},
   "outputs": [],
   "source": [
    "spamposts.dropna(inplace=True)"
   ]
  },
  {
   "cell_type": "code",
   "execution_count": 7,
   "id": "1b1a04d5",
   "metadata": {},
   "outputs": [
    {
     "data": {
      "text/plain": [
       "2128"
      ]
     },
     "execution_count": 7,
     "metadata": {},
     "output_type": "execute_result"
    }
   ],
   "source": [
    "spamposts.duplicated().sum()"
   ]
  },
  {
   "cell_type": "code",
   "execution_count": 8,
   "id": "8a0298c6",
   "metadata": {},
   "outputs": [
    {
     "data": {
      "text/plain": [
       "(2797, 4)"
      ]
     },
     "execution_count": 8,
     "metadata": {},
     "output_type": "execute_result"
    }
   ],
   "source": [
    "spamposts.drop_duplicates(inplace=True)\n",
    "spamposts.shape"
   ]
  },
  {
   "cell_type": "code",
   "execution_count": 9,
   "id": "d6082bf7",
   "metadata": {},
   "outputs": [
    {
     "data": {
      "text/plain": [
       "Scams         1084\n",
       "phishing      1030\n",
       "Malware        611\n",
       "scam_radar      72\n",
       "Name: subreddit, dtype: int64"
      ]
     },
     "execution_count": 9,
     "metadata": {},
     "output_type": "execute_result"
    }
   ],
   "source": [
    "spamposts['subreddit'].value_counts()"
   ]
  },
  {
   "cell_type": "markdown",
   "id": "ac7505a0",
   "metadata": {},
   "source": [
    "#### Movie Review df cleaning"
   ]
  },
  {
   "cell_type": "code",
   "execution_count": 10,
   "id": "2866fc42",
   "metadata": {},
   "outputs": [
    {
     "data": {
      "text/html": [
       "<div>\n",
       "<style scoped>\n",
       "    .dataframe tbody tr th:only-of-type {\n",
       "        vertical-align: middle;\n",
       "    }\n",
       "\n",
       "    .dataframe tbody tr th {\n",
       "        vertical-align: top;\n",
       "    }\n",
       "\n",
       "    .dataframe thead th {\n",
       "        text-align: right;\n",
       "    }\n",
       "</style>\n",
       "<table border=\"1\" class=\"dataframe\">\n",
       "  <thead>\n",
       "    <tr style=\"text-align: right;\">\n",
       "      <th></th>\n",
       "      <th>created_utc</th>\n",
       "      <th>title</th>\n",
       "      <th>self_text</th>\n",
       "      <th>subreddit</th>\n",
       "    </tr>\n",
       "  </thead>\n",
       "  <tbody>\n",
       "    <tr>\n",
       "      <th>0</th>\n",
       "      <td>1.683472e+09</td>\n",
       "      <td>Announcement: Changes, Looking for Mods, Join ...</td>\n",
       "      <td># This Reddit group is going to have a revamp ...</td>\n",
       "      <td>moviereviews</td>\n",
       "    </tr>\n",
       "    <tr>\n",
       "      <th>1</th>\n",
       "      <td>1.697134e+09</td>\n",
       "      <td>Discover the Latest Releases: New Movies from ...</td>\n",
       "      <td>&amp;#x200B;\\n\\n|\\#|Name|Year Released|Genres|\\n|:...</td>\n",
       "      <td>moviereviews</td>\n",
       "    </tr>\n",
       "    <tr>\n",
       "      <th>2</th>\n",
       "      <td>1.697563e+09</td>\n",
       "      <td>Titanic Movie Review - Danger And Hidden Story...</td>\n",
       "      <td>NaN</td>\n",
       "      <td>moviereviews</td>\n",
       "    </tr>\n",
       "    <tr>\n",
       "      <th>3</th>\n",
       "      <td>1.697388e+09</td>\n",
       "      <td>Little Miss Rawther Malayalam Movie Review</td>\n",
       "      <td>\\#LittleMissRawther #Malayalam #MovieReview\\n\\...</td>\n",
       "      <td>moviereviews</td>\n",
       "    </tr>\n",
       "    <tr>\n",
       "      <th>4</th>\n",
       "      <td>1.697208e+09</td>\n",
       "      <td>Ballerina (2023) review – A slick South Korean...</td>\n",
       "      <td>https://thegenrejunkie.com/ballerina-2023/</td>\n",
       "      <td>moviereviews</td>\n",
       "    </tr>\n",
       "  </tbody>\n",
       "</table>\n",
       "</div>"
      ],
      "text/plain": [
       "    created_utc                                              title  \\\n",
       "0  1.683472e+09  Announcement: Changes, Looking for Mods, Join ...   \n",
       "1  1.697134e+09  Discover the Latest Releases: New Movies from ...   \n",
       "2  1.697563e+09  Titanic Movie Review - Danger And Hidden Story...   \n",
       "3  1.697388e+09         Little Miss Rawther Malayalam Movie Review   \n",
       "4  1.697208e+09  Ballerina (2023) review – A slick South Korean...   \n",
       "\n",
       "                                           self_text     subreddit  \n",
       "0  # This Reddit group is going to have a revamp ...  moviereviews  \n",
       "1  &#x200B;\\n\\n|\\#|Name|Year Released|Genres|\\n|:...  moviereviews  \n",
       "2                                                NaN  moviereviews  \n",
       "3  \\#LittleMissRawther #Malayalam #MovieReview\\n\\...  moviereviews  \n",
       "4         https://thegenrejunkie.com/ballerina-2023/  moviereviews  "
      ]
     },
     "execution_count": 10,
     "metadata": {},
     "output_type": "execute_result"
    }
   ],
   "source": [
    "moviereviews.head()"
   ]
  },
  {
   "cell_type": "code",
   "execution_count": 11,
   "id": "9e763b19",
   "metadata": {},
   "outputs": [
    {
     "data": {
      "text/plain": [
       "(2561, 4)"
      ]
     },
     "execution_count": 11,
     "metadata": {},
     "output_type": "execute_result"
    }
   ],
   "source": [
    "moviereviews.shape"
   ]
  },
  {
   "cell_type": "code",
   "execution_count": 12,
   "id": "4ce09b6b",
   "metadata": {},
   "outputs": [
    {
     "data": {
      "text/plain": [
       "created_utc       0\n",
       "title             0\n",
       "self_text      1142\n",
       "subreddit         0\n",
       "dtype: int64"
      ]
     },
     "execution_count": 12,
     "metadata": {},
     "output_type": "execute_result"
    }
   ],
   "source": [
    "moviereviews.isnull().sum()"
   ]
  },
  {
   "cell_type": "code",
   "execution_count": 13,
   "id": "efb1f211",
   "metadata": {},
   "outputs": [],
   "source": [
    "moviereviews.dropna(inplace=True)"
   ]
  },
  {
   "cell_type": "code",
   "execution_count": 14,
   "id": "f9e47445",
   "metadata": {},
   "outputs": [],
   "source": [
    "# Chatgpt wrote this \n",
    "def remove_urls(text):\n",
    "    url_pattern = r'https?://\\S+|www\\.\\S+'\n",
    "    return re.sub(url_pattern, '', text)\n",
    "moviereviews['self_text'] = moviereviews['self_text'].apply(remove_urls)"
   ]
  },
  {
   "cell_type": "code",
   "execution_count": 15,
   "id": "078c3336",
   "metadata": {},
   "outputs": [],
   "source": [
    "moviereviews = moviereviews[moviereviews['self_text'].str.len() > 0]\n"
   ]
  },
  {
   "cell_type": "code",
   "execution_count": 16,
   "id": "74a40f6c",
   "metadata": {},
   "outputs": [
    {
     "data": {
      "text/plain": [
       "473"
      ]
     },
     "execution_count": 16,
     "metadata": {},
     "output_type": "execute_result"
    }
   ],
   "source": [
    "moviereviews.duplicated().sum()"
   ]
  },
  {
   "cell_type": "code",
   "execution_count": 17,
   "id": "c8373db6",
   "metadata": {},
   "outputs": [
    {
     "data": {
      "text/plain": [
       "(925, 4)"
      ]
     },
     "execution_count": 17,
     "metadata": {},
     "output_type": "execute_result"
    }
   ],
   "source": [
    "moviereviews.drop_duplicates(inplace=True)\n",
    "moviereviews.shape"
   ]
  },
  {
   "cell_type": "markdown",
   "id": "e8fa7cf9",
   "metadata": {},
   "source": [
    "### EDA"
   ]
  },
  {
   "cell_type": "markdown",
   "id": "663e0ae2",
   "metadata": {},
   "source": [
    "#### Spam Posts "
   ]
  },
  {
   "cell_type": "code",
   "execution_count": 18,
   "id": "4eccee01",
   "metadata": {},
   "outputs": [
    {
     "data": {
      "text/html": [
       "<div>\n",
       "<style scoped>\n",
       "    .dataframe tbody tr th:only-of-type {\n",
       "        vertical-align: middle;\n",
       "    }\n",
       "\n",
       "    .dataframe tbody tr th {\n",
       "        vertical-align: top;\n",
       "    }\n",
       "\n",
       "    .dataframe thead th {\n",
       "        text-align: right;\n",
       "    }\n",
       "</style>\n",
       "<table border=\"1\" class=\"dataframe\">\n",
       "  <thead>\n",
       "    <tr style=\"text-align: right;\">\n",
       "      <th></th>\n",
       "      <th>created_utc</th>\n",
       "      <th>title</th>\n",
       "      <th>self_text</th>\n",
       "      <th>subreddit</th>\n",
       "    </tr>\n",
       "  </thead>\n",
       "  <tbody>\n",
       "    <tr>\n",
       "      <th>0</th>\n",
       "      <td>1.697589e+09</td>\n",
       "      <td>Is my friend about to be scammed?</td>\n",
       "      <td>Friend of mine from back in Uni (before we mov...</td>\n",
       "      <td>Scams</td>\n",
       "    </tr>\n",
       "    <tr>\n",
       "      <th>1</th>\n",
       "      <td>1.697586e+09</td>\n",
       "      <td>Just Delt with an AirBnB Scam anyone can do an...</td>\n",
       "      <td>Apparently you can instant book seasonal renta...</td>\n",
       "      <td>Scams</td>\n",
       "    </tr>\n",
       "    <tr>\n",
       "      <th>2</th>\n",
       "      <td>1.697586e+09</td>\n",
       "      <td>Spam caller knew my name and 'address' but it ...</td>\n",
       "      <td>First off I am new to posting on Reddit so ple...</td>\n",
       "      <td>Scams</td>\n",
       "    </tr>\n",
       "    <tr>\n",
       "      <th>3</th>\n",
       "      <td>1.697587e+09</td>\n",
       "      <td>I am waiting on a package…</td>\n",
       "      <td>So, I got this text message and I’m trying to ...</td>\n",
       "      <td>Scams</td>\n",
       "    </tr>\n",
       "    <tr>\n",
       "      <th>4</th>\n",
       "      <td>1.697586e+09</td>\n",
       "      <td>Snapchat Minor Solicitation Scam?</td>\n",
       "      <td>Added a girl on Snapchat from Omegle. Look at ...</td>\n",
       "      <td>Scams</td>\n",
       "    </tr>\n",
       "  </tbody>\n",
       "</table>\n",
       "</div>"
      ],
      "text/plain": [
       "    created_utc                                              title  \\\n",
       "0  1.697589e+09                  Is my friend about to be scammed?   \n",
       "1  1.697586e+09  Just Delt with an AirBnB Scam anyone can do an...   \n",
       "2  1.697586e+09  Spam caller knew my name and 'address' but it ...   \n",
       "3  1.697587e+09                         I am waiting on a package…   \n",
       "4  1.697586e+09                  Snapchat Minor Solicitation Scam?   \n",
       "\n",
       "                                           self_text subreddit  \n",
       "0  Friend of mine from back in Uni (before we mov...     Scams  \n",
       "1  Apparently you can instant book seasonal renta...     Scams  \n",
       "2  First off I am new to posting on Reddit so ple...     Scams  \n",
       "3  So, I got this text message and I’m trying to ...     Scams  \n",
       "4  Added a girl on Snapchat from Omegle. Look at ...     Scams  "
      ]
     },
     "execution_count": 18,
     "metadata": {},
     "output_type": "execute_result"
    }
   ],
   "source": [
    "spamposts.head()"
   ]
  },
  {
   "cell_type": "code",
   "execution_count": 19,
   "id": "e6a59e32",
   "metadata": {},
   "outputs": [
    {
     "data": {
      "text/html": [
       "<div>\n",
       "<style scoped>\n",
       "    .dataframe tbody tr th:only-of-type {\n",
       "        vertical-align: middle;\n",
       "    }\n",
       "\n",
       "    .dataframe tbody tr th {\n",
       "        vertical-align: top;\n",
       "    }\n",
       "\n",
       "    .dataframe thead th {\n",
       "        text-align: right;\n",
       "    }\n",
       "</style>\n",
       "<table border=\"1\" class=\"dataframe\">\n",
       "  <thead>\n",
       "    <tr style=\"text-align: right;\">\n",
       "      <th></th>\n",
       "      <th>created_utc</th>\n",
       "      <th>title</th>\n",
       "      <th>self_text</th>\n",
       "      <th>subreddit</th>\n",
       "      <th>self_text_len</th>\n",
       "      <th>self_text_count</th>\n",
       "    </tr>\n",
       "  </thead>\n",
       "  <tbody>\n",
       "    <tr>\n",
       "      <th>0</th>\n",
       "      <td>1.697589e+09</td>\n",
       "      <td>Is my friend about to be scammed?</td>\n",
       "      <td>Friend of mine from back in Uni (before we mov...</td>\n",
       "      <td>Scams</td>\n",
       "      <td>939</td>\n",
       "      <td>183</td>\n",
       "    </tr>\n",
       "    <tr>\n",
       "      <th>1</th>\n",
       "      <td>1.697586e+09</td>\n",
       "      <td>Just Delt with an AirBnB Scam anyone can do an...</td>\n",
       "      <td>Apparently you can instant book seasonal renta...</td>\n",
       "      <td>Scams</td>\n",
       "      <td>481</td>\n",
       "      <td>92</td>\n",
       "    </tr>\n",
       "    <tr>\n",
       "      <th>2</th>\n",
       "      <td>1.697586e+09</td>\n",
       "      <td>Spam caller knew my name and 'address' but it ...</td>\n",
       "      <td>First off I am new to posting on Reddit so ple...</td>\n",
       "      <td>Scams</td>\n",
       "      <td>1377</td>\n",
       "      <td>254</td>\n",
       "    </tr>\n",
       "  </tbody>\n",
       "</table>\n",
       "</div>"
      ],
      "text/plain": [
       "    created_utc                                              title  \\\n",
       "0  1.697589e+09                  Is my friend about to be scammed?   \n",
       "1  1.697586e+09  Just Delt with an AirBnB Scam anyone can do an...   \n",
       "2  1.697586e+09  Spam caller knew my name and 'address' but it ...   \n",
       "\n",
       "                                           self_text subreddit  self_text_len  \\\n",
       "0  Friend of mine from back in Uni (before we mov...     Scams            939   \n",
       "1  Apparently you can instant book seasonal renta...     Scams            481   \n",
       "2  First off I am new to posting on Reddit so ple...     Scams           1377   \n",
       "\n",
       "   self_text_count  \n",
       "0              183  \n",
       "1               92  \n",
       "2              254  "
      ]
     },
     "execution_count": 19,
     "metadata": {},
     "output_type": "execute_result"
    }
   ],
   "source": [
    "spamposts['self_text_len'] = spamposts['self_text'].apply(len)\n",
    "spamposts['self_text_count'] = spamposts['self_text'].apply(lambda x: len(x.split()))\n",
    "spamposts.head(3)"
   ]
  },
  {
   "cell_type": "code",
   "execution_count": 20,
   "id": "c54aae5d",
   "metadata": {},
   "outputs": [
    {
     "data": {
      "text/html": [
       "<div>\n",
       "<style scoped>\n",
       "    .dataframe tbody tr th:only-of-type {\n",
       "        vertical-align: middle;\n",
       "    }\n",
       "\n",
       "    .dataframe tbody tr th {\n",
       "        vertical-align: top;\n",
       "    }\n",
       "\n",
       "    .dataframe thead th {\n",
       "        text-align: right;\n",
       "    }\n",
       "</style>\n",
       "<table border=\"1\" class=\"dataframe\">\n",
       "  <thead>\n",
       "    <tr style=\"text-align: right;\">\n",
       "      <th></th>\n",
       "      <th></th>\n",
       "      <th>self_text_len</th>\n",
       "      <th>self_text_count</th>\n",
       "    </tr>\n",
       "    <tr>\n",
       "      <th></th>\n",
       "      <th>subreddit</th>\n",
       "      <th></th>\n",
       "      <th></th>\n",
       "    </tr>\n",
       "  </thead>\n",
       "  <tbody>\n",
       "    <tr>\n",
       "      <th rowspan=\"4\" valign=\"top\">subreddit</th>\n",
       "      <th>Malware</th>\n",
       "      <td>703.494272</td>\n",
       "      <td>98.638298</td>\n",
       "    </tr>\n",
       "    <tr>\n",
       "      <th>Scams</th>\n",
       "      <td>902.959410</td>\n",
       "      <td>164.819188</td>\n",
       "    </tr>\n",
       "    <tr>\n",
       "      <th>phishing</th>\n",
       "      <td>729.627184</td>\n",
       "      <td>121.966990</td>\n",
       "    </tr>\n",
       "    <tr>\n",
       "      <th>scam_radar</th>\n",
       "      <td>499.888889</td>\n",
       "      <td>81.541667</td>\n",
       "    </tr>\n",
       "  </tbody>\n",
       "</table>\n",
       "</div>"
      ],
      "text/plain": [
       "                      self_text_len  self_text_count\n",
       "          subreddit                                 \n",
       "subreddit Malware        703.494272        98.638298\n",
       "          Scams          902.959410       164.819188\n",
       "          phishing       729.627184       121.966990\n",
       "          scam_radar     499.888889        81.541667"
      ]
     },
     "execution_count": 20,
     "metadata": {},
     "output_type": "execute_result"
    }
   ],
   "source": [
    "text = spamposts[['subreddit', 'self_text_len', 'self_text_count']]\n",
    "text_mean = []\n",
    "\n",
    "for t in text.columns:\n",
    "    t_mean = text.groupby(t).agg({\n",
    "        'self_text_len': 'mean',\n",
    "        'self_text_count' : 'mean'\n",
    "    })\n",
    "    text_mean.append(t_mean)\n",
    "\n",
    "text_mean = pd.concat(text_mean, keys=text.columns[::3])\n",
    "text_mean"
   ]
  },
  {
   "cell_type": "code",
   "execution_count": 21,
   "id": "8187533e",
   "metadata": {},
   "outputs": [],
   "source": [
    "scams = spamposts[spamposts['subreddit'] == 'Scams'][['self_text_count']]\n",
    "malware = spamposts[spamposts['subreddit'] == 'Malware'][['self_text_count']]\n",
    "phishing = spamposts[spamposts['subreddit'] == 'phishing'][['self_text_count']]\n",
    "scamradar = spamposts[spamposts['subreddit'] == 'scam_radar'][['self_text_count']]"
   ]
  },
  {
   "cell_type": "code",
   "execution_count": 22,
   "id": "c1059717",
   "metadata": {},
   "outputs": [
    {
     "data": {
      "text/plain": [
       "<matplotlib.legend.Legend at 0x13e9bc7d0>"
      ]
     },
     "execution_count": 22,
     "metadata": {},
     "output_type": "execute_result"
    },
    {
     "data": {
      "image/png": "[encoded data removed]",
      "text/plain": [
       "<Figure size 1500x1500 with 4 Axes>"
      ]
     },
     "metadata": {},
     "output_type": "display_data"
    }
   ],
   "source": [
    "fig, ax = plt.subplots(2,2, figsize=(15,15))\n",
    "\n",
    "sns.histplot(data=scams, ax=ax[0, 0], bins=80, label='r/Scams', color ='red')\n",
    "ax[0, 0].set_xlim(0, 3000)\n",
    "ax[0, 0].legend()\n",
    "sns.histplot(data=malware, ax=ax[0, 1], label='r/Malware', color = 'purple')\n",
    "ax[0, 1].set_ylim(0, 80)\n",
    "ax[0, 1].set_xlim(0, 1400)\n",
    "ax[0, 1].legend()\n",
    "sns.histplot(data=phishing, ax=ax[1, 0], label='r/Phishing', color='pink')\n",
    "ax[1, 0].set_ylim(0, 150)\n",
    "ax[1, 0].set_xlim(0, 1400)\n",
    "ax[1, 0].legend()\n",
    "sns.histplot(data=scamradar, ax=ax[1, 1], label='r/Scam Radar', color='turquoise')\n",
    "ax[1, 1].set_ylim(0, 50)\n",
    "ax[1, 1].set_xlim(0, 550)\n",
    "ax[1, 1].legend()"
   ]
  },
  {
   "cell_type": "code",
   "execution_count": 23,
   "id": "79412423",
   "metadata": {},
   "outputs": [
    {
     "data": {
      "text/html": [
       "<div>\n",
       "<style scoped>\n",
       "    .dataframe tbody tr th:only-of-type {\n",
       "        vertical-align: middle;\n",
       "    }\n",
       "\n",
       "    .dataframe tbody tr th {\n",
       "        vertical-align: top;\n",
       "    }\n",
       "\n",
       "    .dataframe thead th {\n",
       "        text-align: right;\n",
       "    }\n",
       "</style>\n",
       "<table border=\"1\" class=\"dataframe\">\n",
       "  <thead>\n",
       "    <tr style=\"text-align: right;\">\n",
       "      <th></th>\n",
       "      <th>00</th>\n",
       "      <th>000</th>\n",
       "      <th>0000</th>\n",
       "      <th>000000</th>\n",
       "      <th>00000000</th>\n",
       "      <th>00000001</th>\n",
       "      <th>00000009</th>\n",
       "      <th>0000011</th>\n",
       "      <th>00001</th>\n",
       "      <th>000018ea0000</th>\n",
       "      <th>...</th>\n",
       "      <th>𝒘𝒉𝒂𝒕</th>\n",
       "      <th>𝒘𝒉𝒆𝒓𝒆</th>\n",
       "      <th>𝒘𝒉𝒊𝒄𝒉</th>\n",
       "      <th>𝒘𝒊𝒕𝒉𝒅𝒓𝒂𝒘</th>\n",
       "      <th>𝒘𝒐𝒖𝒍𝒅</th>\n",
       "      <th>𝟏𝟔𝟓𝒌</th>\n",
       "      <th>𝟐𝟗𝟖</th>\n",
       "      <th>𝟓𝟑𝟔𝟐</th>\n",
       "      <th>𝟔𝟏𝟖𝟔𝟎𝟎𝟕𝟑𝟒𝟎𝟒</th>\n",
       "      <th>𝟕𝟐𝟓</th>\n",
       "    </tr>\n",
       "  </thead>\n",
       "  <tbody>\n",
       "    <tr>\n",
       "      <th>0</th>\n",
       "      <td>0</td>\n",
       "      <td>0</td>\n",
       "      <td>0</td>\n",
       "      <td>0</td>\n",
       "      <td>0</td>\n",
       "      <td>0</td>\n",
       "      <td>0</td>\n",
       "      <td>0</td>\n",
       "      <td>0</td>\n",
       "      <td>0</td>\n",
       "      <td>...</td>\n",
       "      <td>0</td>\n",
       "      <td>0</td>\n",
       "      <td>0</td>\n",
       "      <td>0</td>\n",
       "      <td>0</td>\n",
       "      <td>0</td>\n",
       "      <td>0</td>\n",
       "      <td>0</td>\n",
       "      <td>0</td>\n",
       "      <td>0</td>\n",
       "    </tr>\n",
       "    <tr>\n",
       "      <th>1</th>\n",
       "      <td>0</td>\n",
       "      <td>0</td>\n",
       "      <td>0</td>\n",
       "      <td>0</td>\n",
       "      <td>0</td>\n",
       "      <td>0</td>\n",
       "      <td>0</td>\n",
       "      <td>0</td>\n",
       "      <td>0</td>\n",
       "      <td>0</td>\n",
       "      <td>...</td>\n",
       "      <td>0</td>\n",
       "      <td>0</td>\n",
       "      <td>0</td>\n",
       "      <td>0</td>\n",
       "      <td>0</td>\n",
       "      <td>0</td>\n",
       "      <td>0</td>\n",
       "      <td>0</td>\n",
       "      <td>0</td>\n",
       "      <td>0</td>\n",
       "    </tr>\n",
       "    <tr>\n",
       "      <th>2</th>\n",
       "      <td>0</td>\n",
       "      <td>0</td>\n",
       "      <td>0</td>\n",
       "      <td>0</td>\n",
       "      <td>0</td>\n",
       "      <td>0</td>\n",
       "      <td>0</td>\n",
       "      <td>0</td>\n",
       "      <td>0</td>\n",
       "      <td>0</td>\n",
       "      <td>...</td>\n",
       "      <td>0</td>\n",
       "      <td>0</td>\n",
       "      <td>0</td>\n",
       "      <td>0</td>\n",
       "      <td>0</td>\n",
       "      <td>0</td>\n",
       "      <td>0</td>\n",
       "      <td>0</td>\n",
       "      <td>0</td>\n",
       "      <td>0</td>\n",
       "    </tr>\n",
       "    <tr>\n",
       "      <th>3</th>\n",
       "      <td>0</td>\n",
       "      <td>0</td>\n",
       "      <td>0</td>\n",
       "      <td>0</td>\n",
       "      <td>0</td>\n",
       "      <td>0</td>\n",
       "      <td>0</td>\n",
       "      <td>0</td>\n",
       "      <td>0</td>\n",
       "      <td>0</td>\n",
       "      <td>...</td>\n",
       "      <td>0</td>\n",
       "      <td>0</td>\n",
       "      <td>0</td>\n",
       "      <td>0</td>\n",
       "      <td>0</td>\n",
       "      <td>0</td>\n",
       "      <td>0</td>\n",
       "      <td>0</td>\n",
       "      <td>0</td>\n",
       "      <td>0</td>\n",
       "    </tr>\n",
       "    <tr>\n",
       "      <th>4</th>\n",
       "      <td>0</td>\n",
       "      <td>0</td>\n",
       "      <td>0</td>\n",
       "      <td>0</td>\n",
       "      <td>0</td>\n",
       "      <td>0</td>\n",
       "      <td>0</td>\n",
       "      <td>0</td>\n",
       "      <td>0</td>\n",
       "      <td>0</td>\n",
       "      <td>...</td>\n",
       "      <td>0</td>\n",
       "      <td>0</td>\n",
       "      <td>0</td>\n",
       "      <td>0</td>\n",
       "      <td>0</td>\n",
       "      <td>0</td>\n",
       "      <td>0</td>\n",
       "      <td>0</td>\n",
       "      <td>0</td>\n",
       "      <td>0</td>\n",
       "    </tr>\n",
       "  </tbody>\n",
       "</table>\n",
       "<p>5 rows × 19868 columns</p>\n",
       "</div>"
      ],
      "text/plain": [
       "   00  000  0000  000000  00000000  00000001  00000009  0000011  00001  \\\n",
       "0   0    0     0       0         0         0         0        0      0   \n",
       "1   0    0     0       0         0         0         0        0      0   \n",
       "2   0    0     0       0         0         0         0        0      0   \n",
       "3   0    0     0       0         0         0         0        0      0   \n",
       "4   0    0     0       0         0         0         0        0      0   \n",
       "\n",
       "   000018ea0000  ...  𝒘𝒉𝒂𝒕  𝒘𝒉𝒆𝒓𝒆  𝒘𝒉𝒊𝒄𝒉  𝒘𝒊𝒕𝒉𝒅𝒓𝒂𝒘  𝒘𝒐𝒖𝒍𝒅  𝟏𝟔𝟓𝒌  𝟐𝟗𝟖  𝟓𝟑𝟔𝟐  \\\n",
       "0             0  ...     0      0      0         0      0     0    0     0   \n",
       "1             0  ...     0      0      0         0      0     0    0     0   \n",
       "2             0  ...     0      0      0         0      0     0    0     0   \n",
       "3             0  ...     0      0      0         0      0     0    0     0   \n",
       "4             0  ...     0      0      0         0      0     0    0     0   \n",
       "\n",
       "   𝟔𝟏𝟖𝟔𝟎𝟎𝟕𝟑𝟒𝟎𝟒  𝟕𝟐𝟓  \n",
       "0            0    0  \n",
       "1            0    0  \n",
       "2            0    0  \n",
       "3            0    0  \n",
       "4            0    0  \n",
       "\n",
       "[5 rows x 19868 columns]"
      ]
     },
     "execution_count": 23,
     "metadata": {},
     "output_type": "execute_result"
    }
   ],
   "source": [
    "cvec = CountVectorizer(stop_words='english')\n",
    "cvec_text = pd.DataFrame((cvec.fit_transform(spamposts['self_text'])).todense(), \n",
    "                         columns= cvec.get_feature_names_out())\n",
    "cvec_text.head()"
   ]
  },
  {
   "cell_type": "code",
   "execution_count": 24,
   "id": "21d5e49d",
   "metadata": {},
   "outputs": [
    {
     "data": {
      "image/png": "[encoded data removed]",
      "text/plain": [
       "<Figure size 1500x800 with 1 Axes>"
      ]
     },
     "metadata": {},
     "output_type": "display_data"
    }
   ],
   "source": [
    "plt.figure(figsize=(15,8))\n",
    "cvec_text.sum().sort_values(ascending=False).head(20).plot(kind='barh')\n",
    "plt.title('Top 25 words')\n",
    "plt.xlabel('Count')\n",
    "plt.savefig('../Graphs/Scam_top25_words.png')"
   ]
  },
  {
   "cell_type": "code",
   "execution_count": 25,
   "id": "ac7e6eb9",
   "metadata": {},
   "outputs": [
    {
     "data": {
      "text/plain": [
       "<Axes: >"
      ]
     },
     "execution_count": 25,
     "metadata": {},
     "output_type": "execute_result"
    },
    {
     "name": "stderr",
     "output_type": "stream",
     "text": [
      "/Users/anaconda3/lib/python3.11/site-packages/IPython/core/events.py:89: UserWarning: Glyph 120789 (\\N{MATHEMATICAL BOLD DIGIT SEVEN}) missing from current font.\n",
      "  func(*args, **kwargs)\n",
      "/Users/anaconda3/lib/python3.11/site-packages/IPython/core/events.py:89: UserWarning: Glyph 120784 (\\N{MATHEMATICAL BOLD DIGIT TWO}) missing from current font.\n",
      "  func(*args, **kwargs)\n",
      "/Users/anaconda3/lib/python3.11/site-packages/IPython/core/events.py:89: UserWarning: Glyph 120787 (\\N{MATHEMATICAL BOLD DIGIT FIVE}) missing from current font.\n",
      "  func(*args, **kwargs)\n",
      "/Users/anaconda3/lib/python3.11/site-packages/IPython/core/pylabtools.py:152: UserWarning: Glyph 120789 (\\N{MATHEMATICAL BOLD DIGIT SEVEN}) missing from current font.\n",
      "  fig.canvas.print_figure(bytes_io, **kw)\n",
      "/Users/anaconda3/lib/python3.11/site-packages/IPython/core/pylabtools.py:152: UserWarning: Glyph 120784 (\\N{MATHEMATICAL BOLD DIGIT TWO}) missing from current font.\n",
      "  fig.canvas.print_figure(bytes_io, **kw)\n",
      "/Users/anaconda3/lib/python3.11/site-packages/IPython/core/pylabtools.py:152: UserWarning: Glyph 120787 (\\N{MATHEMATICAL BOLD DIGIT FIVE}) missing from current font.\n",
      "  fig.canvas.print_figure(bytes_io, **kw)\n"
     ]
    },
    {
     "data": {
      "image/png": "[encoded data removed]",
      "text/plain": [
       "<Figure size 1500x800 with 1 Axes>"
      ]
     },
     "metadata": {},
     "output_type": "display_data"
    }
   ],
   "source": [
    "plt.figure(figsize=(15,8))\n",
    "cvec_text.sum().sort_values(ascending=False).tail(20).plot(kind='barh')"
   ]
  },
  {
   "cell_type": "code",
   "execution_count": 26,
   "id": "5afc2d8f",
   "metadata": {},
   "outputs": [],
   "source": [
    "punctuation = ['.',',','?','!','\"', \"'\", ':', ';']\n",
    "\n",
    "spamposts['punc_count'] = [sum (1 for punc in status if punc in punctuation) \n",
    "                           for status in spamposts['self_text']]\n",
    "\n",
    "scams_punc = spamposts[spamposts['subreddit'] == 'Scams'][['punc_count']]\n",
    "malware_punc = spamposts[spamposts['subreddit'] == 'Malware'][['punc_count']]\n",
    "phishing_punc = spamposts[spamposts['subreddit'] == 'phishing'][['punc_count']]\n",
    "scamradar_punc = spamposts[spamposts['subreddit'] == 'scam_radar'][['punc_count']]"
   ]
  },
  {
   "cell_type": "code",
   "execution_count": 27,
   "id": "7b931711",
   "metadata": {},
   "outputs": [
    {
     "data": {
      "image/png": "[encoded data removed]",
      "text/plain": [
       "<Figure size 2500x2000 with 4 Axes>"
      ]
     },
     "metadata": {},
     "output_type": "display_data"
    }
   ],
   "source": [
    "fig, ax = plt.subplots(2,2, figsize=(25,20))\n",
    "\n",
    "sns.histplot(data=scams_punc, ax=ax[0, 0], bins=100, label='r/Scams', color ='red')\n",
    "ax[0, 0].set_ylim(0, 480)\n",
    "ax[0, 0].set_xlim(0, 400)\n",
    "ax[0, 0].legend()\n",
    "sns.histplot(data=malware_punc, ax=ax[0, 1],bins=100, label='r/Malware', color = 'purple')\n",
    "ax[0, 1].set_xlim(0, 400)\n",
    "ax[0, 1].legend()\n",
    "sns.histplot(data=phishing_punc, ax=ax[1, 0], label='r/Phishing', color='pink')\n",
    "ax[1, 0].set_xlim(0, 400)\n",
    "ax[1, 0].legend()\n",
    "sns.histplot(data=scamradar_punc, ax=ax[1, 1], bins=100, label='r/Scam Radar', color='turquoise')\n",
    "ax[1, 1].set_ylim(0, 18)\n",
    "ax[1, 1].set_xlim(0, 110)\n",
    "ax[1, 1].legend()\n",
    "plt.savefig('../Graphs/scam_punctuation_count.png', dpi=192)"
   ]
  },
  {
   "cell_type": "code",
   "execution_count": 28,
   "id": "7cf1f224",
   "metadata": {},
   "outputs": [
    {
     "data": {
      "text/plain": [
       "punc_count    20.073801\n",
       "dtype: float64"
      ]
     },
     "execution_count": 28,
     "metadata": {},
     "output_type": "execute_result"
    }
   ],
   "source": [
    "scams_punc.mean()"
   ]
  },
  {
   "cell_type": "code",
   "execution_count": 29,
   "id": "408c1e0f",
   "metadata": {},
   "outputs": [
    {
     "data": {
      "text/plain": [
       "[punc_count    20.073801\n",
       " dtype: float64,\n",
       " punc_count    21.949264\n",
       " dtype: float64,\n",
       " punc_count    18.447573\n",
       " dtype: float64,\n",
       " punc_count    11.236111\n",
       " dtype: float64]"
      ]
     },
     "execution_count": 29,
     "metadata": {},
     "output_type": "execute_result"
    }
   ],
   "source": [
    "means = [scams_punc.mean(), malware_punc.mean(), phishing_punc.mean(), scamradar_punc.mean()]\n",
    "means"
   ]
  },
  {
   "cell_type": "markdown",
   "id": "99c5a3ee",
   "metadata": {},
   "source": [
    "#### Movie Reviews"
   ]
  },
  {
   "cell_type": "code",
   "execution_count": 30,
   "id": "c64b4257",
   "metadata": {},
   "outputs": [
    {
     "data": {
      "text/html": [
       "<div>\n",
       "<style scoped>\n",
       "    .dataframe tbody tr th:only-of-type {\n",
       "        vertical-align: middle;\n",
       "    }\n",
       "\n",
       "    .dataframe tbody tr th {\n",
       "        vertical-align: top;\n",
       "    }\n",
       "\n",
       "    .dataframe thead th {\n",
       "        text-align: right;\n",
       "    }\n",
       "</style>\n",
       "<table border=\"1\" class=\"dataframe\">\n",
       "  <thead>\n",
       "    <tr style=\"text-align: right;\">\n",
       "      <th></th>\n",
       "      <th>created_utc</th>\n",
       "      <th>title</th>\n",
       "      <th>self_text</th>\n",
       "      <th>subreddit</th>\n",
       "    </tr>\n",
       "  </thead>\n",
       "  <tbody>\n",
       "    <tr>\n",
       "      <th>0</th>\n",
       "      <td>1.683472e+09</td>\n",
       "      <td>Announcement: Changes, Looking for Mods, Join ...</td>\n",
       "      <td># This Reddit group is going to have a revamp ...</td>\n",
       "      <td>moviereviews</td>\n",
       "    </tr>\n",
       "    <tr>\n",
       "      <th>1</th>\n",
       "      <td>1.697134e+09</td>\n",
       "      <td>Discover the Latest Releases: New Movies from ...</td>\n",
       "      <td>&amp;#x200B;\\n\\n|\\#|Name|Year Released|Genres|\\n|:...</td>\n",
       "      <td>moviereviews</td>\n",
       "    </tr>\n",
       "    <tr>\n",
       "      <th>3</th>\n",
       "      <td>1.697388e+09</td>\n",
       "      <td>Little Miss Rawther Malayalam Movie Review</td>\n",
       "      <td>\\#LittleMissRawther #Malayalam #MovieReview\\n\\...</td>\n",
       "      <td>moviereviews</td>\n",
       "    </tr>\n",
       "    <tr>\n",
       "      <th>6</th>\n",
       "      <td>1.697134e+09</td>\n",
       "      <td>The John Wick series is a masterpiece.</td>\n",
       "      <td>These films get a lot of praise as action movi...</td>\n",
       "      <td>moviereviews</td>\n",
       "    </tr>\n",
       "    <tr>\n",
       "      <th>8</th>\n",
       "      <td>1.697090e+09</td>\n",
       "      <td>Who are your top 5 movie creators of all time?</td>\n",
       "      <td>This includes people who just make the best mo...</td>\n",
       "      <td>moviereviews</td>\n",
       "    </tr>\n",
       "  </tbody>\n",
       "</table>\n",
       "</div>"
      ],
      "text/plain": [
       "    created_utc                                              title  \\\n",
       "0  1.683472e+09  Announcement: Changes, Looking for Mods, Join ...   \n",
       "1  1.697134e+09  Discover the Latest Releases: New Movies from ...   \n",
       "3  1.697388e+09         Little Miss Rawther Malayalam Movie Review   \n",
       "6  1.697134e+09             The John Wick series is a masterpiece.   \n",
       "8  1.697090e+09     Who are your top 5 movie creators of all time?   \n",
       "\n",
       "                                           self_text     subreddit  \n",
       "0  # This Reddit group is going to have a revamp ...  moviereviews  \n",
       "1  &#x200B;\\n\\n|\\#|Name|Year Released|Genres|\\n|:...  moviereviews  \n",
       "3  \\#LittleMissRawther #Malayalam #MovieReview\\n\\...  moviereviews  \n",
       "6  These films get a lot of praise as action movi...  moviereviews  \n",
       "8  This includes people who just make the best mo...  moviereviews  "
      ]
     },
     "execution_count": 30,
     "metadata": {},
     "output_type": "execute_result"
    }
   ],
   "source": [
    "moviereviews.head()"
   ]
  },
  {
   "cell_type": "code",
   "execution_count": 31,
   "id": "765be6fa",
   "metadata": {},
   "outputs": [
    {
     "data": {
      "text/html": [
       "<div>\n",
       "<style scoped>\n",
       "    .dataframe tbody tr th:only-of-type {\n",
       "        vertical-align: middle;\n",
       "    }\n",
       "\n",
       "    .dataframe tbody tr th {\n",
       "        vertical-align: top;\n",
       "    }\n",
       "\n",
       "    .dataframe thead th {\n",
       "        text-align: right;\n",
       "    }\n",
       "</style>\n",
       "<table border=\"1\" class=\"dataframe\">\n",
       "  <thead>\n",
       "    <tr style=\"text-align: right;\">\n",
       "      <th></th>\n",
       "      <th>created_utc</th>\n",
       "      <th>title</th>\n",
       "      <th>self_text</th>\n",
       "      <th>subreddit</th>\n",
       "      <th>self_text_len</th>\n",
       "      <th>self_text_count</th>\n",
       "    </tr>\n",
       "  </thead>\n",
       "  <tbody>\n",
       "    <tr>\n",
       "      <th>1798</th>\n",
       "      <td>1.588160e+09</td>\n",
       "      <td>Extraction</td>\n",
       "      <td>Is an Excellent Action Flick!</td>\n",
       "      <td>moviereviews</td>\n",
       "      <td>29</td>\n",
       "      <td>5</td>\n",
       "    </tr>\n",
       "    <tr>\n",
       "      <th>1802</th>\n",
       "      <td>1.587535e+09</td>\n",
       "      <td>Body at Brighton Rock review</td>\n",
       "      <td>This post is more of a “vent” on how awful of ...</td>\n",
       "      <td>moviereviews</td>\n",
       "      <td>585</td>\n",
       "      <td>107</td>\n",
       "    </tr>\n",
       "    <tr>\n",
       "      <th>1804</th>\n",
       "      <td>1.587275e+09</td>\n",
       "      <td>[OC] Ranking All Eight Harry Potter Films | Yo...</td>\n",
       "      <td>\\n\\n[ The Harry Potter franchise is a huge fa...</td>\n",
       "      <td>moviereviews</td>\n",
       "      <td>814</td>\n",
       "      <td>152</td>\n",
       "    </tr>\n",
       "  </tbody>\n",
       "</table>\n",
       "</div>"
      ],
      "text/plain": [
       "       created_utc                                              title  \\\n",
       "1798  1.588160e+09                                         Extraction   \n",
       "1802  1.587535e+09                       Body at Brighton Rock review   \n",
       "1804  1.587275e+09  [OC] Ranking All Eight Harry Potter Films | Yo...   \n",
       "\n",
       "                                              self_text     subreddit  \\\n",
       "1798                      Is an Excellent Action Flick!  moviereviews   \n",
       "1802  This post is more of a “vent” on how awful of ...  moviereviews   \n",
       "1804   \\n\\n[ The Harry Potter franchise is a huge fa...  moviereviews   \n",
       "\n",
       "      self_text_len  self_text_count  \n",
       "1798             29                5  \n",
       "1802            585              107  \n",
       "1804            814              152  "
      ]
     },
     "execution_count": 31,
     "metadata": {},
     "output_type": "execute_result"
    }
   ],
   "source": [
    "moviereviews['self_text_len'] = moviereviews['self_text'].apply(len)\n",
    "moviereviews['self_text_count'] = moviereviews['self_text'].apply(lambda x: len(x.split()))\n",
    "moviereviews.tail(3)"
   ]
  },
  {
   "cell_type": "code",
   "execution_count": 32,
   "id": "911f268c",
   "metadata": {},
   "outputs": [
    {
     "data": {
      "text/plain": [
       "<matplotlib.legend.Legend at 0x13e9d6e50>"
      ]
     },
     "execution_count": 32,
     "metadata": {},
     "output_type": "execute_result"
    },
    {
     "data": {
      "image/png": "[encoded data removed]",
      "text/plain": [
       "<Figure size 1500x800 with 2 Axes>"
      ]
     },
     "metadata": {},
     "output_type": "display_data"
    }
   ],
   "source": [
    "fig, ax = plt.subplots(1,2, figsize=(15,8))\n",
    "\n",
    "sns.histplot(data=moviereviews['self_text_len'], ax=ax[0], bins=80, label='Text Length', \n",
    "             color ='red')\n",
    "ax[0].legend()\n",
    "sns.histplot(data=moviereviews['self_text_count'], ax=ax[1], label='Word Count', color = 'purple')\n",
    "ax[1].legend()"
   ]
  },
  {
   "cell_type": "code",
   "execution_count": 33,
   "id": "a05aaf96",
   "metadata": {},
   "outputs": [
    {
     "data": {
      "text/html": [
       "<div>\n",
       "<style scoped>\n",
       "    .dataframe tbody tr th:only-of-type {\n",
       "        vertical-align: middle;\n",
       "    }\n",
       "\n",
       "    .dataframe tbody tr th {\n",
       "        vertical-align: top;\n",
       "    }\n",
       "\n",
       "    .dataframe thead th {\n",
       "        text-align: right;\n",
       "    }\n",
       "</style>\n",
       "<table border=\"1\" class=\"dataframe\">\n",
       "  <thead>\n",
       "    <tr style=\"text-align: right;\">\n",
       "      <th></th>\n",
       "      <th>00</th>\n",
       "      <th>000</th>\n",
       "      <th>007</th>\n",
       "      <th>01</th>\n",
       "      <th>05</th>\n",
       "      <th>10</th>\n",
       "      <th>100</th>\n",
       "      <th>1000</th>\n",
       "      <th>1000000000</th>\n",
       "      <th>1001</th>\n",
       "      <th>...</th>\n",
       "      <th>மக</th>\n",
       "      <th>மன</th>\n",
       "      <th>மல</th>\n",
       "      <th>யண</th>\n",
       "      <th>ரம</th>\n",
       "      <th>றத</th>\n",
       "      <th>லப</th>\n",
       "      <th>லம</th>\n",
       "      <th>வசனத</th>\n",
       "      <th>ஷன</th>\n",
       "    </tr>\n",
       "  </thead>\n",
       "  <tbody>\n",
       "    <tr>\n",
       "      <th>0</th>\n",
       "      <td>0</td>\n",
       "      <td>0</td>\n",
       "      <td>0</td>\n",
       "      <td>0</td>\n",
       "      <td>0</td>\n",
       "      <td>0</td>\n",
       "      <td>0</td>\n",
       "      <td>0</td>\n",
       "      <td>0</td>\n",
       "      <td>0</td>\n",
       "      <td>...</td>\n",
       "      <td>0</td>\n",
       "      <td>0</td>\n",
       "      <td>0</td>\n",
       "      <td>0</td>\n",
       "      <td>0</td>\n",
       "      <td>0</td>\n",
       "      <td>0</td>\n",
       "      <td>0</td>\n",
       "      <td>0</td>\n",
       "      <td>0</td>\n",
       "    </tr>\n",
       "    <tr>\n",
       "      <th>1</th>\n",
       "      <td>0</td>\n",
       "      <td>0</td>\n",
       "      <td>0</td>\n",
       "      <td>0</td>\n",
       "      <td>0</td>\n",
       "      <td>1</td>\n",
       "      <td>0</td>\n",
       "      <td>0</td>\n",
       "      <td>0</td>\n",
       "      <td>0</td>\n",
       "      <td>...</td>\n",
       "      <td>0</td>\n",
       "      <td>0</td>\n",
       "      <td>0</td>\n",
       "      <td>0</td>\n",
       "      <td>0</td>\n",
       "      <td>0</td>\n",
       "      <td>0</td>\n",
       "      <td>0</td>\n",
       "      <td>0</td>\n",
       "      <td>0</td>\n",
       "    </tr>\n",
       "    <tr>\n",
       "      <th>2</th>\n",
       "      <td>0</td>\n",
       "      <td>0</td>\n",
       "      <td>0</td>\n",
       "      <td>0</td>\n",
       "      <td>0</td>\n",
       "      <td>0</td>\n",
       "      <td>0</td>\n",
       "      <td>0</td>\n",
       "      <td>0</td>\n",
       "      <td>0</td>\n",
       "      <td>...</td>\n",
       "      <td>0</td>\n",
       "      <td>0</td>\n",
       "      <td>0</td>\n",
       "      <td>0</td>\n",
       "      <td>0</td>\n",
       "      <td>0</td>\n",
       "      <td>0</td>\n",
       "      <td>0</td>\n",
       "      <td>0</td>\n",
       "      <td>0</td>\n",
       "    </tr>\n",
       "    <tr>\n",
       "      <th>3</th>\n",
       "      <td>0</td>\n",
       "      <td>0</td>\n",
       "      <td>0</td>\n",
       "      <td>0</td>\n",
       "      <td>0</td>\n",
       "      <td>0</td>\n",
       "      <td>0</td>\n",
       "      <td>0</td>\n",
       "      <td>0</td>\n",
       "      <td>0</td>\n",
       "      <td>...</td>\n",
       "      <td>0</td>\n",
       "      <td>0</td>\n",
       "      <td>0</td>\n",
       "      <td>0</td>\n",
       "      <td>0</td>\n",
       "      <td>0</td>\n",
       "      <td>0</td>\n",
       "      <td>0</td>\n",
       "      <td>0</td>\n",
       "      <td>0</td>\n",
       "    </tr>\n",
       "    <tr>\n",
       "      <th>4</th>\n",
       "      <td>0</td>\n",
       "      <td>0</td>\n",
       "      <td>0</td>\n",
       "      <td>0</td>\n",
       "      <td>0</td>\n",
       "      <td>0</td>\n",
       "      <td>0</td>\n",
       "      <td>0</td>\n",
       "      <td>0</td>\n",
       "      <td>0</td>\n",
       "      <td>...</td>\n",
       "      <td>0</td>\n",
       "      <td>0</td>\n",
       "      <td>0</td>\n",
       "      <td>0</td>\n",
       "      <td>0</td>\n",
       "      <td>0</td>\n",
       "      <td>0</td>\n",
       "      <td>0</td>\n",
       "      <td>0</td>\n",
       "      <td>0</td>\n",
       "    </tr>\n",
       "  </tbody>\n",
       "</table>\n",
       "<p>5 rows × 14990 columns</p>\n",
       "</div>"
      ],
      "text/plain": [
       "   00  000  007  01  05  10  100  1000  1000000000  1001  ...  மக  மன  மல  யண  \\\n",
       "0   0    0    0   0   0   0    0     0           0     0  ...   0   0   0   0   \n",
       "1   0    0    0   0   0   1    0     0           0     0  ...   0   0   0   0   \n",
       "2   0    0    0   0   0   0    0     0           0     0  ...   0   0   0   0   \n",
       "3   0    0    0   0   0   0    0     0           0     0  ...   0   0   0   0   \n",
       "4   0    0    0   0   0   0    0     0           0     0  ...   0   0   0   0   \n",
       "\n",
       "   ரம  றத  லப  லம  வசனத  ஷன  \n",
       "0   0   0   0   0     0   0  \n",
       "1   0   0   0   0     0   0  \n",
       "2   0   0   0   0     0   0  \n",
       "3   0   0   0   0     0   0  \n",
       "4   0   0   0   0     0   0  \n",
       "\n",
       "[5 rows x 14990 columns]"
      ]
     },
     "execution_count": 33,
     "metadata": {},
     "output_type": "execute_result"
    }
   ],
   "source": [
    "cvec2 = CountVectorizer(stop_words='english')\n",
    "cvec2_text = pd.DataFrame((cvec2.fit_transform(moviereviews['self_text'])).todense(), \n",
    "                         columns= cvec2.get_feature_names_out())\n",
    "cvec2_text.head()"
   ]
  },
  {
   "cell_type": "code",
   "execution_count": 34,
   "id": "c3d7f1d8",
   "metadata": {},
   "outputs": [
    {
     "data": {
      "image/png": "[encoded data removed]",
      "text/plain": [
       "<Figure size 1500x800 with 1 Axes>"
      ]
     },
     "metadata": {},
     "output_type": "display_data"
    }
   ],
   "source": [
    "plt.figure(figsize=(15,8))\n",
    "cvec2_text.sum().sort_values(ascending=False).head(20).plot(kind='barh')\n",
    "plt.savefig('../Graphs/Movie_top25_words.png')"
   ]
  },
  {
   "cell_type": "code",
   "execution_count": 35,
   "id": "397b0b62",
   "metadata": {},
   "outputs": [
    {
     "data": {
      "text/plain": [
       "<Axes: >"
      ]
     },
     "execution_count": 35,
     "metadata": {},
     "output_type": "execute_result"
    },
    {
     "name": "stderr",
     "output_type": "stream",
     "text": [
      "/Users/anaconda3/lib/python3.11/site-packages/IPython/core/events.py:89: UserWarning: Glyph 2999 (\\N{TAMIL LETTER SSA}) missing from current font.\n",
      "  func(*args, **kwargs)\n",
      "/Users/anaconda3/lib/python3.11/site-packages/IPython/core/events.py:89: UserWarning: Matplotlib currently does not support Tamil natively.\n",
      "  func(*args, **kwargs)\n",
      "/Users/anaconda3/lib/python3.11/site-packages/IPython/core/events.py:89: UserWarning: Glyph 2985 (\\N{TAMIL LETTER NNNA}) missing from current font.\n",
      "  func(*args, **kwargs)\n",
      "/Users/anaconda3/lib/python3.11/site-packages/IPython/core/pylabtools.py:152: UserWarning: Glyph 2999 (\\N{TAMIL LETTER SSA}) missing from current font.\n",
      "  fig.canvas.print_figure(bytes_io, **kw)\n",
      "/Users/anaconda3/lib/python3.11/site-packages/IPython/core/pylabtools.py:152: UserWarning: Matplotlib currently does not support Tamil natively.\n",
      "  fig.canvas.print_figure(bytes_io, **kw)\n",
      "/Users/anaconda3/lib/python3.11/site-packages/IPython/core/pylabtools.py:152: UserWarning: Glyph 2985 (\\N{TAMIL LETTER NNNA}) missing from current font.\n",
      "  fig.canvas.print_figure(bytes_io, **kw)\n"
     ]
    },
    {
     "data": {
      "image/png": "[encoded data removed]",
      "text/plain": [
       "<Figure size 1500x800 with 1 Axes>"
      ]
     },
     "metadata": {},
     "output_type": "display_data"
    }
   ],
   "source": [
    "plt.figure(figsize=(15,8))\n",
    "cvec2_text.sum().sort_values(ascending=False).tail(20).plot(kind='barh')"
   ]
  },
  {
   "cell_type": "code",
   "execution_count": 36,
   "id": "9e3fe85c",
   "metadata": {},
   "outputs": [],
   "source": [
    "moviereviews['punc_count'] = [sum (1 for punc in status if punc in punctuation) \n",
    "                           for status in moviereviews['self_text']]\n",
    "\n",
    "review_punc = moviereviews[moviereviews['subreddit'] == 'moviereviews'][['punc_count']]\n",
    "suggestions_punc = moviereviews[moviereviews['subreddit'] == 'MovieSuggestions'][['punc_count']]\n"
   ]
  },
  {
   "cell_type": "code",
   "execution_count": 37,
   "id": "564e967e",
   "metadata": {},
   "outputs": [
    {
     "name": "stderr",
     "output_type": "stream",
     "text": [
      "No artists with labels found to put in legend.  Note that artists whose label start with an underscore are ignored when legend() is called with no argument.\n"
     ]
    },
    {
     "data": {
      "image/png": "[encoded data removed]",
      "text/plain": [
       "<Figure size 1500x1500 with 2 Axes>"
      ]
     },
     "metadata": {},
     "output_type": "display_data"
    }
   ],
   "source": [
    "fig, ax = plt.subplots(1,2, figsize=(15,15))\n",
    "\n",
    "sns.histplot(data=review_punc, ax=ax[0], bins=80, label='r/Reviews', color ='red')\n",
    "#x[0].set_xlim(0, 3000)\n",
    "ax[0].legend()\n",
    "sns.histplot(data=suggestions_punc, ax=ax[1], bins=80, label='r/Suggestions', color = 'purple')\n",
    "#ax[1].set_ylim(0, 80)\n",
    "#ax[1].set_xlim(0, 1400)\n",
    "ax[1].legend()\n",
    "plt.savefig('../Graphs/Movie_punctuation_count.png')"
   ]
  },
  {
   "cell_type": "markdown",
   "id": "82da012d",
   "metadata": {},
   "source": [
    "### Merging DataFrames"
   ]
  },
  {
   "cell_type": "code",
   "execution_count": 38,
   "id": "89dff306",
   "metadata": {},
   "outputs": [
    {
     "data": {
      "text/plain": [
       "Scams           1084\n",
       "phishing        1030\n",
       "moviereviews     925\n",
       "Malware          611\n",
       "scam_radar        72\n",
       "Name: subreddit, dtype: int64"
      ]
     },
     "execution_count": 38,
     "metadata": {},
     "output_type": "execute_result"
    }
   ],
   "source": [
    "df = pd.concat([spamposts, moviereviews], axis=0)\n",
    "df['subreddit'].value_counts()"
   ]
  },
  {
   "cell_type": "code",
   "execution_count": 39,
   "id": "c6e2e26c",
   "metadata": {},
   "outputs": [
    {
     "data": {
      "text/html": [
       "<div>\n",
       "<style scoped>\n",
       "    .dataframe tbody tr th:only-of-type {\n",
       "        vertical-align: middle;\n",
       "    }\n",
       "\n",
       "    .dataframe tbody tr th {\n",
       "        vertical-align: top;\n",
       "    }\n",
       "\n",
       "    .dataframe thead th {\n",
       "        text-align: right;\n",
       "    }\n",
       "</style>\n",
       "<table border=\"1\" class=\"dataframe\">\n",
       "  <thead>\n",
       "    <tr style=\"text-align: right;\">\n",
       "      <th></th>\n",
       "      <th>created_utc</th>\n",
       "      <th>title</th>\n",
       "      <th>self_text</th>\n",
       "      <th>subreddit</th>\n",
       "      <th>self_text_len</th>\n",
       "      <th>self_text_count</th>\n",
       "      <th>punc_count</th>\n",
       "    </tr>\n",
       "  </thead>\n",
       "  <tbody>\n",
       "    <tr>\n",
       "      <th>1796</th>\n",
       "      <td>1.588269e+09</td>\n",
       "      <td>Shazam! (2019) Review</td>\n",
       "      <td>\\n\\nI am not a huge fan of live action super...</td>\n",
       "      <td>moviereviews</td>\n",
       "      <td>4228</td>\n",
       "      <td>778</td>\n",
       "      <td>68</td>\n",
       "    </tr>\n",
       "    <tr>\n",
       "      <th>1797</th>\n",
       "      <td>1.588195e+09</td>\n",
       "      <td>Calling All Movie Reviewers</td>\n",
       "      <td>Hey guys, here’s a random request for you all....</td>\n",
       "      <td>moviereviews</td>\n",
       "      <td>483</td>\n",
       "      <td>95</td>\n",
       "      <td>15</td>\n",
       "    </tr>\n",
       "    <tr>\n",
       "      <th>1798</th>\n",
       "      <td>1.588160e+09</td>\n",
       "      <td>Extraction</td>\n",
       "      <td>Is an Excellent Action Flick!</td>\n",
       "      <td>moviereviews</td>\n",
       "      <td>29</td>\n",
       "      <td>5</td>\n",
       "      <td>1</td>\n",
       "    </tr>\n",
       "    <tr>\n",
       "      <th>1802</th>\n",
       "      <td>1.587535e+09</td>\n",
       "      <td>Body at Brighton Rock review</td>\n",
       "      <td>This post is more of a “vent” on how awful of ...</td>\n",
       "      <td>moviereviews</td>\n",
       "      <td>585</td>\n",
       "      <td>107</td>\n",
       "      <td>10</td>\n",
       "    </tr>\n",
       "    <tr>\n",
       "      <th>1804</th>\n",
       "      <td>1.587275e+09</td>\n",
       "      <td>[OC] Ranking All Eight Harry Potter Films | Yo...</td>\n",
       "      <td>\\n\\n[ The Harry Potter franchise is a huge fa...</td>\n",
       "      <td>moviereviews</td>\n",
       "      <td>814</td>\n",
       "      <td>152</td>\n",
       "      <td>28</td>\n",
       "    </tr>\n",
       "  </tbody>\n",
       "</table>\n",
       "</div>"
      ],
      "text/plain": [
       "       created_utc                                              title  \\\n",
       "1796  1.588269e+09                              Shazam! (2019) Review   \n",
       "1797  1.588195e+09                        Calling All Movie Reviewers   \n",
       "1798  1.588160e+09                                         Extraction   \n",
       "1802  1.587535e+09                       Body at Brighton Rock review   \n",
       "1804  1.587275e+09  [OC] Ranking All Eight Harry Potter Films | Yo...   \n",
       "\n",
       "                                              self_text     subreddit  \\\n",
       "1796    \\n\\nI am not a huge fan of live action super...  moviereviews   \n",
       "1797  Hey guys, here’s a random request for you all....  moviereviews   \n",
       "1798                      Is an Excellent Action Flick!  moviereviews   \n",
       "1802  This post is more of a “vent” on how awful of ...  moviereviews   \n",
       "1804   \\n\\n[ The Harry Potter franchise is a huge fa...  moviereviews   \n",
       "\n",
       "      self_text_len  self_text_count  punc_count  \n",
       "1796           4228              778          68  \n",
       "1797            483               95          15  \n",
       "1798             29                5           1  \n",
       "1802            585              107          10  \n",
       "1804            814              152          28  "
      ]
     },
     "execution_count": 39,
     "metadata": {},
     "output_type": "execute_result"
    }
   ],
   "source": [
    "df.tail()"
   ]
  },
  {
   "cell_type": "code",
   "execution_count": 40,
   "id": "e0c94fd2",
   "metadata": {},
   "outputs": [
    {
     "data": {
      "text/plain": [
       "1    2797\n",
       "0     925\n",
       "Name: scam_notscam, dtype: int64"
      ]
     },
     "execution_count": 40,
     "metadata": {},
     "output_type": "execute_result"
    }
   ],
   "source": [
    "df['scam_notscam'] = [0 if item in ('moviereviews', 'MovieSuggestions') else 1 \n",
    "                    for item in df['subreddit']]\n",
    "df['scam_notscam'].value_counts()"
   ]
  },
  {
   "cell_type": "code",
   "execution_count": 41,
   "id": "7460ca16",
   "metadata": {},
   "outputs": [],
   "source": [
    "df.to_csv('../Data/merged_data.csv', index=False)"
   ]
  },
  {
   "cell_type": "markdown",
   "id": "2d993758",
   "metadata": {},
   "source": [
    "### Categorising Scam data for 2nd model"
   ]
  },
  {
   "cell_type": "code",
   "execution_count": 42,
   "id": "931b80a4",
   "metadata": {},
   "outputs": [
    {
     "data": {
      "text/html": [
       "<div>\n",
       "<style scoped>\n",
       "    .dataframe tbody tr th:only-of-type {\n",
       "        vertical-align: middle;\n",
       "    }\n",
       "\n",
       "    .dataframe tbody tr th {\n",
       "        vertical-align: top;\n",
       "    }\n",
       "\n",
       "    .dataframe thead th {\n",
       "        text-align: right;\n",
       "    }\n",
       "</style>\n",
       "<table border=\"1\" class=\"dataframe\">\n",
       "  <thead>\n",
       "    <tr style=\"text-align: right;\">\n",
       "      <th></th>\n",
       "      <th>created_utc</th>\n",
       "      <th>title</th>\n",
       "      <th>self_text</th>\n",
       "      <th>subreddit</th>\n",
       "      <th>self_text_len</th>\n",
       "      <th>self_text_count</th>\n",
       "      <th>punc_count</th>\n",
       "    </tr>\n",
       "  </thead>\n",
       "  <tbody>\n",
       "    <tr>\n",
       "      <th>0</th>\n",
       "      <td>1.697589e+09</td>\n",
       "      <td>Is my friend about to be scammed?</td>\n",
       "      <td>Friend of mine from back in Uni (before we mov...</td>\n",
       "      <td>Scams</td>\n",
       "      <td>939</td>\n",
       "      <td>183</td>\n",
       "      <td>32</td>\n",
       "    </tr>\n",
       "    <tr>\n",
       "      <th>1</th>\n",
       "      <td>1.697586e+09</td>\n",
       "      <td>Just Delt with an AirBnB Scam anyone can do an...</td>\n",
       "      <td>Apparently you can instant book seasonal renta...</td>\n",
       "      <td>Scams</td>\n",
       "      <td>481</td>\n",
       "      <td>92</td>\n",
       "      <td>4</td>\n",
       "    </tr>\n",
       "    <tr>\n",
       "      <th>2</th>\n",
       "      <td>1.697586e+09</td>\n",
       "      <td>Spam caller knew my name and 'address' but it ...</td>\n",
       "      <td>First off I am new to posting on Reddit so ple...</td>\n",
       "      <td>Scams</td>\n",
       "      <td>1377</td>\n",
       "      <td>254</td>\n",
       "      <td>27</td>\n",
       "    </tr>\n",
       "    <tr>\n",
       "      <th>3</th>\n",
       "      <td>1.697587e+09</td>\n",
       "      <td>I am waiting on a package…</td>\n",
       "      <td>So, I got this text message and I’m trying to ...</td>\n",
       "      <td>Scams</td>\n",
       "      <td>192</td>\n",
       "      <td>41</td>\n",
       "      <td>5</td>\n",
       "    </tr>\n",
       "    <tr>\n",
       "      <th>4</th>\n",
       "      <td>1.697586e+09</td>\n",
       "      <td>Snapchat Minor Solicitation Scam?</td>\n",
       "      <td>Added a girl on Snapchat from Omegle. Look at ...</td>\n",
       "      <td>Scams</td>\n",
       "      <td>866</td>\n",
       "      <td>161</td>\n",
       "      <td>24</td>\n",
       "    </tr>\n",
       "  </tbody>\n",
       "</table>\n",
       "</div>"
      ],
      "text/plain": [
       "    created_utc                                              title  \\\n",
       "0  1.697589e+09                  Is my friend about to be scammed?   \n",
       "1  1.697586e+09  Just Delt with an AirBnB Scam anyone can do an...   \n",
       "2  1.697586e+09  Spam caller knew my name and 'address' but it ...   \n",
       "3  1.697587e+09                         I am waiting on a package…   \n",
       "4  1.697586e+09                  Snapchat Minor Solicitation Scam?   \n",
       "\n",
       "                                           self_text subreddit  self_text_len  \\\n",
       "0  Friend of mine from back in Uni (before we mov...     Scams            939   \n",
       "1  Apparently you can instant book seasonal renta...     Scams            481   \n",
       "2  First off I am new to posting on Reddit so ple...     Scams           1377   \n",
       "3  So, I got this text message and I’m trying to ...     Scams            192   \n",
       "4  Added a girl on Snapchat from Omegle. Look at ...     Scams            866   \n",
       "\n",
       "   self_text_count  punc_count  \n",
       "0              183          32  \n",
       "1               92           4  \n",
       "2              254          27  \n",
       "3               41           5  \n",
       "4              161          24  "
      ]
     },
     "execution_count": 42,
     "metadata": {},
     "output_type": "execute_result"
    }
   ],
   "source": [
    "spamposts.head()"
   ]
  },
  {
   "cell_type": "code",
   "execution_count": 43,
   "id": "02016421",
   "metadata": {},
   "outputs": [
    {
     "data": {
      "text/plain": [
       "(2797, 7)"
      ]
     },
     "execution_count": 43,
     "metadata": {},
     "output_type": "execute_result"
    }
   ],
   "source": [
    "spamposts.shape"
   ]
  },
  {
   "cell_type": "code",
   "execution_count": 44,
   "id": "c13a1e42",
   "metadata": {},
   "outputs": [
    {
     "data": {
      "text/html": [
       "<div>\n",
       "<style scoped>\n",
       "    .dataframe tbody tr th:only-of-type {\n",
       "        vertical-align: middle;\n",
       "    }\n",
       "\n",
       "    .dataframe tbody tr th {\n",
       "        vertical-align: top;\n",
       "    }\n",
       "\n",
       "    .dataframe thead th {\n",
       "        text-align: right;\n",
       "    }\n",
       "</style>\n",
       "<table border=\"1\" class=\"dataframe\">\n",
       "  <thead>\n",
       "    <tr style=\"text-align: right;\">\n",
       "      <th></th>\n",
       "      <th>created_utc</th>\n",
       "      <th>title</th>\n",
       "      <th>self_text</th>\n",
       "      <th>subreddit</th>\n",
       "      <th>self_text_len</th>\n",
       "      <th>self_text_count</th>\n",
       "      <th>punc_count</th>\n",
       "    </tr>\n",
       "  </thead>\n",
       "  <tbody>\n",
       "    <tr>\n",
       "      <th>0</th>\n",
       "      <td>1.697589e+09</td>\n",
       "      <td>Is my friend about to be scammed?</td>\n",
       "      <td>Friend of mine from back in Uni (before we mov...</td>\n",
       "      <td>Malware</td>\n",
       "      <td>939</td>\n",
       "      <td>183</td>\n",
       "      <td>32</td>\n",
       "    </tr>\n",
       "    <tr>\n",
       "      <th>1</th>\n",
       "      <td>1.697586e+09</td>\n",
       "      <td>Just Delt with an AirBnB Scam anyone can do an...</td>\n",
       "      <td>Apparently you can instant book seasonal renta...</td>\n",
       "      <td>Malware</td>\n",
       "      <td>481</td>\n",
       "      <td>92</td>\n",
       "      <td>4</td>\n",
       "    </tr>\n",
       "    <tr>\n",
       "      <th>2</th>\n",
       "      <td>1.697586e+09</td>\n",
       "      <td>Spam caller knew my name and 'address' but it ...</td>\n",
       "      <td>First off I am new to posting on Reddit so ple...</td>\n",
       "      <td>Malware</td>\n",
       "      <td>1377</td>\n",
       "      <td>254</td>\n",
       "      <td>27</td>\n",
       "    </tr>\n",
       "    <tr>\n",
       "      <th>5</th>\n",
       "      <td>1.697561e+09</td>\n",
       "      <td>Phone was stolen around a month ago and I’m no...</td>\n",
       "      <td>For context I got my phone stolen in early Sep...</td>\n",
       "      <td>Malware</td>\n",
       "      <td>280</td>\n",
       "      <td>57</td>\n",
       "      <td>4</td>\n",
       "    </tr>\n",
       "    <tr>\n",
       "      <th>7</th>\n",
       "      <td>1.697567e+09</td>\n",
       "      <td>Scammer regret</td>\n",
       "      <td>I had an unusual scam call just now. The lead ...</td>\n",
       "      <td>Malware</td>\n",
       "      <td>579</td>\n",
       "      <td>109</td>\n",
       "      <td>13</td>\n",
       "    </tr>\n",
       "    <tr>\n",
       "      <th>...</th>\n",
       "      <td>...</td>\n",
       "      <td>...</td>\n",
       "      <td>...</td>\n",
       "      <td>...</td>\n",
       "      <td>...</td>\n",
       "      <td>...</td>\n",
       "      <td>...</td>\n",
       "    </tr>\n",
       "    <tr>\n",
       "      <th>7047</th>\n",
       "      <td>1.696976e+09</td>\n",
       "      <td>Beware of Crypto Scams: My Personal Experience</td>\n",
       "      <td>Hey Reddit Community,\\n\\nI hope you're all doi...</td>\n",
       "      <td>Malware</td>\n",
       "      <td>2156</td>\n",
       "      <td>386</td>\n",
       "      <td>66</td>\n",
       "    </tr>\n",
       "    <tr>\n",
       "      <th>7048</th>\n",
       "      <td>1.696983e+09</td>\n",
       "      <td>Books on Scams</td>\n",
       "      <td>Can anyone kindly recommend some good books on...</td>\n",
       "      <td>Malware</td>\n",
       "      <td>181</td>\n",
       "      <td>30</td>\n",
       "      <td>5</td>\n",
       "    </tr>\n",
       "    <tr>\n",
       "      <th>7050</th>\n",
       "      <td>1.696967e+09</td>\n",
       "      <td>Landlord wants me to fill out transunion backg...</td>\n",
       "      <td>Looked up a rental online and the price of ren...</td>\n",
       "      <td>Malware</td>\n",
       "      <td>914</td>\n",
       "      <td>129</td>\n",
       "      <td>14</td>\n",
       "    </tr>\n",
       "    <tr>\n",
       "      <th>7052</th>\n",
       "      <td>1.696966e+09</td>\n",
       "      <td>PSA to Apple Users</td>\n",
       "      <td>For any Apple users out there who get scam tex...</td>\n",
       "      <td>Malware</td>\n",
       "      <td>195</td>\n",
       "      <td>38</td>\n",
       "      <td>3</td>\n",
       "    </tr>\n",
       "    <tr>\n",
       "      <th>7053</th>\n",
       "      <td>1.696972e+09</td>\n",
       "      <td>Is this a scam? It feels like a scam, but I ca...</td>\n",
       "      <td>This is my interaction with a buyer on fb mark...</td>\n",
       "      <td>Malware</td>\n",
       "      <td>453</td>\n",
       "      <td>86</td>\n",
       "      <td>6</td>\n",
       "    </tr>\n",
       "  </tbody>\n",
       "</table>\n",
       "<p>578 rows × 7 columns</p>\n",
       "</div>"
      ],
      "text/plain": [
       "       created_utc                                              title  \\\n",
       "0     1.697589e+09                  Is my friend about to be scammed?   \n",
       "1     1.697586e+09  Just Delt with an AirBnB Scam anyone can do an...   \n",
       "2     1.697586e+09  Spam caller knew my name and 'address' but it ...   \n",
       "5     1.697561e+09  Phone was stolen around a month ago and I’m no...   \n",
       "7     1.697567e+09                                     Scammer regret   \n",
       "...            ...                                                ...   \n",
       "7047  1.696976e+09     Beware of Crypto Scams: My Personal Experience   \n",
       "7048  1.696983e+09                                     Books on Scams   \n",
       "7050  1.696967e+09  Landlord wants me to fill out transunion backg...   \n",
       "7052  1.696966e+09                                 PSA to Apple Users   \n",
       "7053  1.696972e+09  Is this a scam? It feels like a scam, but I ca...   \n",
       "\n",
       "                                              self_text subreddit  \\\n",
       "0     Friend of mine from back in Uni (before we mov...   Malware   \n",
       "1     Apparently you can instant book seasonal renta...   Malware   \n",
       "2     First off I am new to posting on Reddit so ple...   Malware   \n",
       "5     For context I got my phone stolen in early Sep...   Malware   \n",
       "7     I had an unusual scam call just now. The lead ...   Malware   \n",
       "...                                                 ...       ...   \n",
       "7047  Hey Reddit Community,\\n\\nI hope you're all doi...   Malware   \n",
       "7048  Can anyone kindly recommend some good books on...   Malware   \n",
       "7050  Looked up a rental online and the price of ren...   Malware   \n",
       "7052  For any Apple users out there who get scam tex...   Malware   \n",
       "7053  This is my interaction with a buyer on fb mark...   Malware   \n",
       "\n",
       "      self_text_len  self_text_count  punc_count  \n",
       "0               939              183          32  \n",
       "1               481               92           4  \n",
       "2              1377              254          27  \n",
       "5               280               57           4  \n",
       "7               579              109          13  \n",
       "...             ...              ...         ...  \n",
       "7047           2156              386          66  \n",
       "7048            181               30           5  \n",
       "7050            914              129          14  \n",
       "7052            195               38           3  \n",
       "7053            453               86           6  \n",
       "\n",
       "[578 rows x 7 columns]"
      ]
     },
     "execution_count": 44,
     "metadata": {},
     "output_type": "execute_result"
    }
   ],
   "source": [
    "scamposts = spamposts[spamposts['subreddit'].isin(['Scams', 'scam_radar'])]\n",
    "phishing = scamposts.sample(frac=0.5)\n",
    "phishing['subreddit'] = 'Phishing'\n",
    "malwareposts = scamposts.drop(phishing.index)\n",
    "malwareposts['subreddit'] = 'Malware'\n",
    "malwareposts"
   ]
  },
  {
   "cell_type": "code",
   "execution_count": 45,
   "id": "597e139d",
   "metadata": {},
   "outputs": [
    {
     "data": {
      "text/html": [
       "<div>\n",
       "<style scoped>\n",
       "    .dataframe tbody tr th:only-of-type {\n",
       "        vertical-align: middle;\n",
       "    }\n",
       "\n",
       "    .dataframe tbody tr th {\n",
       "        vertical-align: top;\n",
       "    }\n",
       "\n",
       "    .dataframe thead th {\n",
       "        text-align: right;\n",
       "    }\n",
       "</style>\n",
       "<table border=\"1\" class=\"dataframe\">\n",
       "  <thead>\n",
       "    <tr style=\"text-align: right;\">\n",
       "      <th></th>\n",
       "      <th>created_utc</th>\n",
       "      <th>title</th>\n",
       "      <th>self_text</th>\n",
       "      <th>subreddit</th>\n",
       "      <th>self_text_len</th>\n",
       "      <th>self_text_count</th>\n",
       "      <th>punc_count</th>\n",
       "      <th>phis_orMal</th>\n",
       "    </tr>\n",
       "  </thead>\n",
       "  <tbody>\n",
       "    <tr>\n",
       "      <th>25</th>\n",
       "      <td>1.697552e+09</td>\n",
       "      <td>Malware on New York Times top sponsored link u...</td>\n",
       "      <td>Today I Googled \"NYT\" and clicked the top spon...</td>\n",
       "      <td>Malware</td>\n",
       "      <td>657</td>\n",
       "      <td>111</td>\n",
       "      <td>19</td>\n",
       "      <td>0</td>\n",
       "    </tr>\n",
       "    <tr>\n",
       "      <th>27</th>\n",
       "      <td>1.697553e+09</td>\n",
       "      <td>Why would a Url redirect to multiple sites</td>\n",
       "      <td>I saw gmai.com on my security audit this morni...</td>\n",
       "      <td>Malware</td>\n",
       "      <td>325</td>\n",
       "      <td>61</td>\n",
       "      <td>5</td>\n",
       "      <td>0</td>\n",
       "    </tr>\n",
       "    <tr>\n",
       "      <th>28</th>\n",
       "      <td>1.697547e+09</td>\n",
       "      <td>Accessibility malware on android</td>\n",
       "      <td>If a user downloads a malicious app from outsi...</td>\n",
       "      <td>Malware</td>\n",
       "      <td>470</td>\n",
       "      <td>73</td>\n",
       "      <td>5</td>\n",
       "      <td>0</td>\n",
       "    </tr>\n",
       "    <tr>\n",
       "      <th>30</th>\n",
       "      <td>1.697298e+09</td>\n",
       "      <td>Benefits of Dynamic analysis vs Any.run(intera...</td>\n",
       "      <td>Hello,\\n\\nI was wondering since [any.run](http...</td>\n",
       "      <td>Malware</td>\n",
       "      <td>356</td>\n",
       "      <td>50</td>\n",
       "      <td>10</td>\n",
       "      <td>0</td>\n",
       "    </tr>\n",
       "    <tr>\n",
       "      <th>34</th>\n",
       "      <td>1.697571e+09</td>\n",
       "      <td>Opened a spam pdf in hurry</td>\n",
       "      <td>Recieved an email on my phone saying norton su...</td>\n",
       "      <td>phishing</td>\n",
       "      <td>380</td>\n",
       "      <td>69</td>\n",
       "      <td>8</td>\n",
       "      <td>1</td>\n",
       "    </tr>\n",
       "  </tbody>\n",
       "</table>\n",
       "</div>"
      ],
      "text/plain": [
       "     created_utc                                              title  \\\n",
       "25  1.697552e+09  Malware on New York Times top sponsored link u...   \n",
       "27  1.697553e+09         Why would a Url redirect to multiple sites   \n",
       "28  1.697547e+09                   Accessibility malware on android   \n",
       "30  1.697298e+09  Benefits of Dynamic analysis vs Any.run(intera...   \n",
       "34  1.697571e+09                         Opened a spam pdf in hurry   \n",
       "\n",
       "                                            self_text subreddit  \\\n",
       "25  Today I Googled \"NYT\" and clicked the top spon...   Malware   \n",
       "27  I saw gmai.com on my security audit this morni...   Malware   \n",
       "28  If a user downloads a malicious app from outsi...   Malware   \n",
       "30  Hello,\\n\\nI was wondering since [any.run](http...   Malware   \n",
       "34  Recieved an email on my phone saying norton su...  phishing   \n",
       "\n",
       "    self_text_len  self_text_count  punc_count  phis_orMal  \n",
       "25            657              111          19           0  \n",
       "27            325               61           5           0  \n",
       "28            470               73           5           0  \n",
       "30            356               50          10           0  \n",
       "34            380               69           8           1  "
      ]
     },
     "execution_count": 45,
     "metadata": {},
     "output_type": "execute_result"
    }
   ],
   "source": [
    "phis_mal_posts = spamposts[spamposts['subreddit'].isin(['Malware', 'phishing'])]\n",
    "df_phis_mal = pd.concat([phis_mal_posts, malwareposts, phishing], axis=0)\n",
    "df_phis_mal['phis_orMal'] = [0 if item in ('Malware') else 1 \n",
    "                    for item in df_phis_mal['subreddit']]\n",
    "df_phis_mal['phis_orMal'].value_counts()\n",
    "df_phis_mal.head()"
   ]
  },
  {
   "cell_type": "code",
   "execution_count": 46,
   "id": "d6e1d067",
   "metadata": {},
   "outputs": [],
   "source": [
    "df_phis_mal.to_csv('../Data/Phishing_or_Malware_data.csv', index=False)"
   ]
  },
  {
   "cell_type": "code",
   "execution_count": null,
   "id": "8c233df3",
   "metadata": {},
   "outputs": [],
   "source": []
  }
 ],
 "metadata": {
  "kernelspec": {
   "display_name": "Python 3 (ipykernel)",
   "language": "python",
   "name": "python3"
  },
  "language_info": {
   "codemirror_mode": {
    "name": "ipython",
    "version": 3
   },
   "file_extension": ".py",
   "mimetype": "text/x-python",
   "name": "python",
   "nbconvert_exporter": "python",
   "pygments_lexer": "ipython3",
   "version": "3.11.4"
  }
 },
 "nbformat": 4,
 "nbformat_minor": 5
}
