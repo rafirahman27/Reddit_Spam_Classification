{
 "cells": [
  {
   "cell_type": "markdown",
   "id": "8a62fb28",
   "metadata": {},
   "source": [
    "### Imports"
   ]
  },
  {
   "cell_type": "code",
   "execution_count": 2,
   "id": "c7129366",
   "metadata": {},
   "outputs": [],
   "source": [
    "import pandas as pd\n",
    "import numpy as np\n",
    "import requests\n",
    "import praw\n",
    "\n",
    "import json"
   ]
  },
  {
   "cell_type": "markdown",
   "id": "01422e59",
   "metadata": {},
   "source": [
    "### Reddit details"
   ]
  },
  {
   "cell_type": "code",
   "execution_count": 9,
   "id": "24e3c5d0",
   "metadata": {},
   "outputs": [],
   "source": [
    "with open('../config.json', 'r') as file:\n",
    "    config_data = json.loads(file.read())"
   ]
  },
  {
   "cell_type": "code",
   "execution_count": 11,
   "id": "d401b4c6",
   "metadata": {},
   "outputs": [],
   "source": [
    "reddit = praw.Reddit(\n",
    "    client_id = config_data['client_id'],\n",
    "    client_secret = config_data['client_secret'],\n",
    "    user_agent = 'myredditapp:v1.2.3 by u/rafsta128',\n",
    "    username = 'rafsta128',\n",
    ")"
   ]
  },
  {
   "cell_type": "markdown",
   "id": "d46272de",
   "metadata": {},
   "source": [
    "### Spam Posts"
   ]
  },
  {
   "cell_type": "code",
   "execution_count": 12,
   "id": "bcbddb96",
   "metadata": {},
   "outputs": [],
   "source": [
    "data = []"
   ]
  },
  {
   "cell_type": "code",
   "execution_count": 28,
   "id": "c43a0759",
   "metadata": {},
   "outputs": [],
   "source": [
    "# r/Scam \n",
    "scam = reddit.subreddit('scams')\n",
    "scamposts = scam.rising(limit=1000)\n",
    "# r/Malware\n",
    "malware = reddit.subreddit('malware')\n",
    "malwareposts = malware.rising(limit=1000)\n",
    "# r/Phishing \n",
    "phishing = reddit.subreddit('phishing')\n",
    "phishingposts = phishing.rising(limit=1000)\n",
    "\n",
    "for post in scamposts:\n",
    "    data.append([post.created_utc, post.title, post.selftext, post.subreddit])\n",
    "for post in malwareposts:\n",
    "    data.append([post.created_utc, post.title, post.selftext, post.subreddit])\n",
    "for post in phishingposts:\n",
    "    data.append([post.created_utc, post.title, post.selftext, post.subreddit,])"
   ]
  },
  {
   "cell_type": "code",
   "execution_count": 29,
   "id": "c2c5d06f",
   "metadata": {},
   "outputs": [],
   "source": [
    "# r/ScamRadar\n",
    "scamradar = reddit.subreddit('scam_radar')\n",
    "scamradar_posts = scamradar.rising(limit=1000)\n",
    "\n",
    "for post in scamradar_posts:\n",
    "    data.append([post.created_utc, post.title, post.selftext, post.subreddit,])"
   ]
  },
  {
   "cell_type": "code",
   "execution_count": 30,
   "id": "5312f920",
   "metadata": {},
   "outputs": [
    {
     "data": {
      "text/html": [
       "<div>\n",
       "<style scoped>\n",
       "    .dataframe tbody tr th:only-of-type {\n",
       "        vertical-align: middle;\n",
       "    }\n",
       "\n",
       "    .dataframe tbody tr th {\n",
       "        vertical-align: top;\n",
       "    }\n",
       "\n",
       "    .dataframe thead th {\n",
       "        text-align: right;\n",
       "    }\n",
       "</style>\n",
       "<table border=\"1\" class=\"dataframe\">\n",
       "  <thead>\n",
       "    <tr style=\"text-align: right;\">\n",
       "      <th></th>\n",
       "      <th>created_utc</th>\n",
       "      <th>title</th>\n",
       "      <th>self_text</th>\n",
       "      <th>subreddit</th>\n",
       "    </tr>\n",
       "  </thead>\n",
       "  <tbody>\n",
       "    <tr>\n",
       "      <th>0</th>\n",
       "      <td>1.658652e+09</td>\n",
       "      <td>My mother got scammed for at least $20k after ...</td>\n",
       "      <td></td>\n",
       "      <td>Scams</td>\n",
       "    </tr>\n",
       "    <tr>\n",
       "      <th>1</th>\n",
       "      <td>1.634143e+09</td>\n",
       "      <td>My daughter posted a bad review for a product ...</td>\n",
       "      <td></td>\n",
       "      <td>Scams</td>\n",
       "    </tr>\n",
       "    <tr>\n",
       "      <th>2</th>\n",
       "      <td>1.626998e+09</td>\n",
       "      <td>This one made me laugh</td>\n",
       "      <td></td>\n",
       "      <td>Scams</td>\n",
       "    </tr>\n",
       "    <tr>\n",
       "      <th>3</th>\n",
       "      <td>1.564556e+09</td>\n",
       "      <td>Meatball</td>\n",
       "      <td></td>\n",
       "      <td>Scams</td>\n",
       "    </tr>\n",
       "    <tr>\n",
       "      <th>4</th>\n",
       "      <td>1.646661e+09</td>\n",
       "      <td>Trash human tried scamming me after I lost my ...</td>\n",
       "      <td></td>\n",
       "      <td>Scams</td>\n",
       "    </tr>\n",
       "  </tbody>\n",
       "</table>\n",
       "</div>"
      ],
      "text/plain": [
       "    created_utc                                              title self_text  \\\n",
       "0  1.658652e+09  My mother got scammed for at least $20k after ...             \n",
       "1  1.634143e+09  My daughter posted a bad review for a product ...             \n",
       "2  1.626998e+09                             This one made me laugh             \n",
       "3  1.564556e+09                                           Meatball             \n",
       "4  1.646661e+09  Trash human tried scamming me after I lost my ...             \n",
       "\n",
       "  subreddit  \n",
       "0     Scams  \n",
       "1     Scams  \n",
       "2     Scams  \n",
       "3     Scams  \n",
       "4     Scams  "
      ]
     },
     "execution_count": 30,
     "metadata": {},
     "output_type": "execute_result"
    }
   ],
   "source": [
    "# Turn into a dataframe\n",
    "spam_post = pd.DataFrame(data, columns = ['created_utc', 'title', 'self_text', 'subreddit'])\n",
    "spam_post.head()"
   ]
  },
  {
   "cell_type": "code",
   "execution_count": 31,
   "id": "fc11ba30",
   "metadata": {},
   "outputs": [
    {
     "data": {
      "text/plain": [
       "Scams         2977\n",
       "phishing      2951\n",
       "Malware       2256\n",
       "scam_radar     273\n",
       "Name: subreddit, dtype: int64"
      ]
     },
     "execution_count": 31,
     "metadata": {},
     "output_type": "execute_result"
    }
   ],
   "source": [
    "spam_post['subreddit'].value_counts()"
   ]
  },
  {
   "cell_type": "code",
   "execution_count": 32,
   "id": "c231e586",
   "metadata": {},
   "outputs": [
    {
     "data": {
      "text/plain": [
       "(8457, 4)"
      ]
     },
     "execution_count": 32,
     "metadata": {},
     "output_type": "execute_result"
    }
   ],
   "source": [
    "spam_post.shape"
   ]
  },
  {
   "cell_type": "code",
   "execution_count": 33,
   "id": "a7588091",
   "metadata": {},
   "outputs": [],
   "source": [
    "spam_post.to_csv('../Data/spam_post_data.csv', index=False)"
   ]
  },
  {
   "cell_type": "markdown",
   "id": "e1908c7d",
   "metadata": {},
   "source": [
    "### Movie Reviews"
   ]
  },
  {
   "cell_type": "code",
   "execution_count": 34,
   "id": "1e170274",
   "metadata": {},
   "outputs": [],
   "source": [
    "data2 = []"
   ]
  },
  {
   "cell_type": "code",
   "execution_count": 41,
   "id": "808929ca",
   "metadata": {},
   "outputs": [
    {
     "data": {
      "text/html": [
       "<div>\n",
       "<style scoped>\n",
       "    .dataframe tbody tr th:only-of-type {\n",
       "        vertical-align: middle;\n",
       "    }\n",
       "\n",
       "    .dataframe tbody tr th {\n",
       "        vertical-align: top;\n",
       "    }\n",
       "\n",
       "    .dataframe thead th {\n",
       "        text-align: right;\n",
       "    }\n",
       "</style>\n",
       "<table border=\"1\" class=\"dataframe\">\n",
       "  <thead>\n",
       "    <tr style=\"text-align: right;\">\n",
       "      <th></th>\n",
       "      <th>created_utc</th>\n",
       "      <th>title</th>\n",
       "      <th>self_text</th>\n",
       "      <th>subreddit</th>\n",
       "    </tr>\n",
       "  </thead>\n",
       "  <tbody>\n",
       "    <tr>\n",
       "      <th>0</th>\n",
       "      <td>1.697563e+09</td>\n",
       "      <td>Titanic Movie Review - Danger And Hidden Story...</td>\n",
       "      <td></td>\n",
       "      <td>moviereviews</td>\n",
       "    </tr>\n",
       "    <tr>\n",
       "      <th>1</th>\n",
       "      <td>1.697388e+09</td>\n",
       "      <td>Little Miss Rawther Malayalam Movie Review</td>\n",
       "      <td>\\#LittleMissRawther #Malayalam #MovieReview\\n\\...</td>\n",
       "      <td>moviereviews</td>\n",
       "    </tr>\n",
       "    <tr>\n",
       "      <th>2</th>\n",
       "      <td>1.697208e+09</td>\n",
       "      <td>Ballerina (2023) review – A slick South Korean...</td>\n",
       "      <td>https://thegenrejunkie.com/ballerina-2023/</td>\n",
       "      <td>moviereviews</td>\n",
       "    </tr>\n",
       "    <tr>\n",
       "      <th>3</th>\n",
       "      <td>1.697191e+09</td>\n",
       "      <td>Clay's Reviews - Texas Chainsaw Massacre</td>\n",
       "      <td></td>\n",
       "      <td>moviereviews</td>\n",
       "    </tr>\n",
       "    <tr>\n",
       "      <th>4</th>\n",
       "      <td>1.697134e+09</td>\n",
       "      <td>The John Wick series is a masterpiece.</td>\n",
       "      <td>These films get a lot of praise as action movi...</td>\n",
       "      <td>moviereviews</td>\n",
       "    </tr>\n",
       "  </tbody>\n",
       "</table>\n",
       "</div>"
      ],
      "text/plain": [
       "    created_utc                                              title  \\\n",
       "0  1.697563e+09  Titanic Movie Review - Danger And Hidden Story...   \n",
       "1  1.697388e+09         Little Miss Rawther Malayalam Movie Review   \n",
       "2  1.697208e+09  Ballerina (2023) review – A slick South Korean...   \n",
       "3  1.697191e+09           Clay's Reviews - Texas Chainsaw Massacre   \n",
       "4  1.697134e+09             The John Wick series is a masterpiece.   \n",
       "\n",
       "                                           self_text     subreddit  \n",
       "0                                                     moviereviews  \n",
       "1  \\#LittleMissRawther #Malayalam #MovieReview\\n\\...  moviereviews  \n",
       "2         https://thegenrejunkie.com/ballerina-2023/  moviereviews  \n",
       "3                                                     moviereviews  \n",
       "4  These films get a lot of praise as action movi...  moviereviews  "
      ]
     },
     "execution_count": 41,
     "metadata": {},
     "output_type": "execute_result"
    }
   ],
   "source": [
    "moviereview = reddit.subreddit('moviereviews')\n",
    "moviereviews = moviereview.hot(limit=2000)\n",
    "\n",
    "for post in moviereviews:\n",
    "    data2.append([post.created_utc, post.title, post.selftext, post.subreddit])\n",
    "    \n",
    "review_post = pd.DataFrame(data2, columns = ['created_utc', 'title', 'self_text', 'subreddit'])\n",
    "review_post.head()"
   ]
  },
  {
   "cell_type": "code",
   "execution_count": 42,
   "id": "5f6e1d3f",
   "metadata": {},
   "outputs": [
    {
     "data": {
      "text/plain": [
       "(2561, 4)"
      ]
     },
     "execution_count": 42,
     "metadata": {},
     "output_type": "execute_result"
    }
   ],
   "source": [
    "review_post.shape"
   ]
  },
  {
   "cell_type": "code",
   "execution_count": 43,
   "id": "21bb91ac",
   "metadata": {},
   "outputs": [],
   "source": [
    "review_post.to_csv('../Data/moviereview_post_data.csv', index = False)"
   ]
  }
 ],
 "metadata": {
  "kernelspec": {
   "display_name": "Python 3 (ipykernel)",
   "language": "python",
   "name": "python3"
  },
  "language_info": {
   "codemirror_mode": {
    "name": "ipython",
    "version": 3
   },
   "file_extension": ".py",
   "mimetype": "text/x-python",
   "name": "python",
   "nbconvert_exporter": "python",
   "pygments_lexer": "ipython3",
   "version": "3.11.4"
  }
 },
 "nbformat": 4,
 "nbformat_minor": 5
}
