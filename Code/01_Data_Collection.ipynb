{
 "cells": [
  {
   "cell_type": "markdown",
   "id": "81bf5d5f",
   "metadata": {},
   "source": [
    "### Imports"
   ]
  },
  {
   "cell_type": "code",
   "execution_count": 5,
   "id": "144a4f39",
   "metadata": {},
   "outputs": [],
   "source": [
    "import pandas as pd\n",
    "import numpy as np\n",
    "import requests\n",
    "import praw\n",
    "\n",
    "import json"
   ]
  },
  {
   "cell_type": "markdown",
   "id": "8bbabd89",
   "metadata": {},
   "source": [
    "### Reddit details"
   ]
  },
  {
   "cell_type": "code",
   "execution_count": 6,
   "id": "a76190ba",
   "metadata": {},
   "outputs": [],
   "source": [
    "with open('../config.json', 'r') as file:\n",
    "    config_data = json.loads(file.read())"
   ]
  },
  {
   "cell_type": "code",
   "execution_count": 7,
   "id": "ad1d1110",
   "metadata": {},
   "outputs": [],
   "source": [
    "reddit = praw.Reddit(\n",
    "    client_id = config_data['client_id'],\n",
    "    client_secret = config_data['client_secret'],\n",
    "    user_agent = 'myredditapp:v1.2.3 by u/rafsta128',\n",
    "    username = 'rafsta128',\n",
    ")"
   ]
  },
  {
   "cell_type": "markdown",
   "id": "a2576a07",
   "metadata": {},
   "source": [
    "### Spam Posts"
   ]
  },
  {
   "cell_type": "code",
   "execution_count": 8,
   "id": "2b89db3e",
   "metadata": {},
   "outputs": [],
   "source": [
    "data = []"
   ]
  },
  {
   "cell_type": "code",
   "execution_count": 88,
   "id": "f6e16b2f",
   "metadata": {},
   "outputs": [],
   "source": [
    "# r/Scam \n",
    "scam = reddit.subreddit('scams')\n",
    "scamposts = scam.hot(limit=1000)\n",
    "# r/Malware\n",
    "malware = reddit.subreddit('malware')\n",
    "malwareposts = malware.hot(limit=1000)\n",
    "# r/Phishing \n",
    "phishing = reddit.subreddit('phishing')\n",
    "phishingposts = phishing.hot(limit=1000)\n",
    "\n",
    "for post in scamposts:\n",
    "    data.append([post.created_utc, post.title, post.selftext, post.subreddit])\n",
    "for post in malwareposts:\n",
    "    data.append([post.created_utc, post.title, post.selftext, post.subreddit])\n",
    "for post in phishingposts:\n",
    "    data.append([post.created_utc, post.title, post.selftext, post.subreddit,])"
   ]
  },
  {
   "cell_type": "code",
   "execution_count": 89,
   "id": "f23ba156",
   "metadata": {},
   "outputs": [],
   "source": [
    "# r/ScamRadar\n",
    "scamradar = reddit.subreddit('scam_radar')\n",
    "scamradar_posts = scamradar.hot(limit=2000)\n",
    "\n",
    "for post in scamradar_posts:\n",
    "    data.append([post.created_utc, post.title, post.selftext, post.subreddit,])"
   ]
  },
  {
   "cell_type": "code",
   "execution_count": 90,
   "id": "ce25575c",
   "metadata": {},
   "outputs": [
    {
     "data": {
      "text/html": [
       "<div>\n",
       "<style scoped>\n",
       "    .dataframe tbody tr th:only-of-type {\n",
       "        vertical-align: middle;\n",
       "    }\n",
       "\n",
       "    .dataframe tbody tr th {\n",
       "        vertical-align: top;\n",
       "    }\n",
       "\n",
       "    .dataframe thead th {\n",
       "        text-align: right;\n",
       "    }\n",
       "</style>\n",
       "<table border=\"1\" class=\"dataframe\">\n",
       "  <thead>\n",
       "    <tr style=\"text-align: right;\">\n",
       "      <th></th>\n",
       "      <th>created_utc</th>\n",
       "      <th>title</th>\n",
       "      <th>self_text</th>\n",
       "      <th>subreddit</th>\n",
       "    </tr>\n",
       "  </thead>\n",
       "  <tbody>\n",
       "    <tr>\n",
       "      <th>0</th>\n",
       "      <td>1.697589e+09</td>\n",
       "      <td>Is my friend about to be scammed?</td>\n",
       "      <td>Friend of mine from back in Uni (before we mov...</td>\n",
       "      <td>Scams</td>\n",
       "    </tr>\n",
       "    <tr>\n",
       "      <th>1</th>\n",
       "      <td>1.697586e+09</td>\n",
       "      <td>Just Delt with an AirBnB Scam anyone can do an...</td>\n",
       "      <td>Apparently you can instant book seasonal renta...</td>\n",
       "      <td>Scams</td>\n",
       "    </tr>\n",
       "    <tr>\n",
       "      <th>2</th>\n",
       "      <td>1.697586e+09</td>\n",
       "      <td>Spam caller knew my name and 'address' but it ...</td>\n",
       "      <td>First off I am new to posting on Reddit so ple...</td>\n",
       "      <td>Scams</td>\n",
       "    </tr>\n",
       "    <tr>\n",
       "      <th>3</th>\n",
       "      <td>1.697587e+09</td>\n",
       "      <td>I am waiting on a package…</td>\n",
       "      <td>So, I got this text message and I’m trying to ...</td>\n",
       "      <td>Scams</td>\n",
       "    </tr>\n",
       "    <tr>\n",
       "      <th>4</th>\n",
       "      <td>1.697586e+09</td>\n",
       "      <td>Snapchat Minor Solicitation Scam?</td>\n",
       "      <td>Added a girl on Snapchat from Omegle. Look at ...</td>\n",
       "      <td>Scams</td>\n",
       "    </tr>\n",
       "  </tbody>\n",
       "</table>\n",
       "</div>"
      ],
      "text/plain": [
       "    created_utc                                              title  \\\n",
       "0  1.697589e+09                  Is my friend about to be scammed?   \n",
       "1  1.697586e+09  Just Delt with an AirBnB Scam anyone can do an...   \n",
       "2  1.697586e+09  Spam caller knew my name and 'address' but it ...   \n",
       "3  1.697587e+09                         I am waiting on a package…   \n",
       "4  1.697586e+09                  Snapchat Minor Solicitation Scam?   \n",
       "\n",
       "                                           self_text subreddit  \n",
       "0  Friend of mine from back in Uni (before we mov...     Scams  \n",
       "1  Apparently you can instant book seasonal renta...     Scams  \n",
       "2  First off I am new to posting on Reddit so ple...     Scams  \n",
       "3  So, I got this text message and I’m trying to ...     Scams  \n",
       "4  Added a girl on Snapchat from Omegle. Look at ...     Scams  "
      ]
     },
     "execution_count": 90,
     "metadata": {},
     "output_type": "execute_result"
    }
   ],
   "source": [
    "# Turn into a dataframe\n",
    "spam_post = pd.DataFrame(data, columns = ['created_utc', 'title', 'self_text', 'subreddit'])\n",
    "spam_post.head()"
   ]
  },
  {
   "cell_type": "code",
   "execution_count": 91,
   "id": "59b6f4d6",
   "metadata": {},
   "outputs": [
    {
     "data": {
      "text/plain": [
       "Scams         4926\n",
       "phishing      4874\n",
       "Malware       3506\n",
       "scam_radar     715\n",
       "Name: subreddit, dtype: int64"
      ]
     },
     "execution_count": 91,
     "metadata": {},
     "output_type": "execute_result"
    }
   ],
   "source": [
    "spam_post['subreddit'].value_counts()"
   ]
  },
  {
   "cell_type": "code",
   "execution_count": 92,
   "id": "032d143d",
   "metadata": {},
   "outputs": [
    {
     "data": {
      "text/plain": [
       "(14021, 4)"
      ]
     },
     "execution_count": 92,
     "metadata": {},
     "output_type": "execute_result"
    }
   ],
   "source": [
    "spam_post.shape"
   ]
  },
  {
   "cell_type": "code",
   "execution_count": 93,
   "id": "9dcf434f",
   "metadata": {},
   "outputs": [],
   "source": [
    "spam_post.to_csv('../Data/spam_post_data.csv', index=False)"
   ]
  },
  {
   "cell_type": "markdown",
   "id": "74f30813",
   "metadata": {},
   "source": [
    "### Movie Reviews & Movie Suggestions"
   ]
  },
  {
   "cell_type": "code",
   "execution_count": 15,
   "id": "39f5b18d",
   "metadata": {},
   "outputs": [],
   "source": [
    "data2 = []"
   ]
  },
  {
   "cell_type": "code",
   "execution_count": 24,
   "id": "0062dd81",
   "metadata": {},
   "outputs": [
    {
     "data": {
      "text/html": [
       "<div>\n",
       "<style scoped>\n",
       "    .dataframe tbody tr th:only-of-type {\n",
       "        vertical-align: middle;\n",
       "    }\n",
       "\n",
       "    .dataframe tbody tr th {\n",
       "        vertical-align: top;\n",
       "    }\n",
       "\n",
       "    .dataframe thead th {\n",
       "        text-align: right;\n",
       "    }\n",
       "</style>\n",
       "<table border=\"1\" class=\"dataframe\">\n",
       "  <thead>\n",
       "    <tr style=\"text-align: right;\">\n",
       "      <th></th>\n",
       "      <th>created_utc</th>\n",
       "      <th>title</th>\n",
       "      <th>self_text</th>\n",
       "      <th>subreddit</th>\n",
       "    </tr>\n",
       "  </thead>\n",
       "  <tbody>\n",
       "    <tr>\n",
       "      <th>0</th>\n",
       "      <td>1.683472e+09</td>\n",
       "      <td>Announcement: Changes, Looking for Mods, Join ...</td>\n",
       "      <td># This Reddit group is going to have a revamp ...</td>\n",
       "      <td>moviereviews</td>\n",
       "    </tr>\n",
       "    <tr>\n",
       "      <th>1</th>\n",
       "      <td>1.697134e+09</td>\n",
       "      <td>Discover the Latest Releases: New Movies from ...</td>\n",
       "      <td>&amp;#x200B;\\n\\n|\\#|Name|Year Released|Genres|\\n|:...</td>\n",
       "      <td>moviereviews</td>\n",
       "    </tr>\n",
       "    <tr>\n",
       "      <th>2</th>\n",
       "      <td>1.697563e+09</td>\n",
       "      <td>Titanic Movie Review - Danger And Hidden Story...</td>\n",
       "      <td></td>\n",
       "      <td>moviereviews</td>\n",
       "    </tr>\n",
       "    <tr>\n",
       "      <th>3</th>\n",
       "      <td>1.697388e+09</td>\n",
       "      <td>Little Miss Rawther Malayalam Movie Review</td>\n",
       "      <td>\\#LittleMissRawther #Malayalam #MovieReview\\n\\...</td>\n",
       "      <td>moviereviews</td>\n",
       "    </tr>\n",
       "    <tr>\n",
       "      <th>4</th>\n",
       "      <td>1.697208e+09</td>\n",
       "      <td>Ballerina (2023) review – A slick South Korean...</td>\n",
       "      <td>https://thegenrejunkie.com/ballerina-2023/</td>\n",
       "      <td>moviereviews</td>\n",
       "    </tr>\n",
       "  </tbody>\n",
       "</table>\n",
       "</div>"
      ],
      "text/plain": [
       "    created_utc                                              title  \\\n",
       "0  1.683472e+09  Announcement: Changes, Looking for Mods, Join ...   \n",
       "1  1.697134e+09  Discover the Latest Releases: New Movies from ...   \n",
       "2  1.697563e+09  Titanic Movie Review - Danger And Hidden Story...   \n",
       "3  1.697388e+09         Little Miss Rawther Malayalam Movie Review   \n",
       "4  1.697208e+09  Ballerina (2023) review – A slick South Korean...   \n",
       "\n",
       "                                           self_text     subreddit  \n",
       "0  # This Reddit group is going to have a revamp ...  moviereviews  \n",
       "1  &#x200B;\\n\\n|\\#|Name|Year Released|Genres|\\n|:...  moviereviews  \n",
       "2                                                     moviereviews  \n",
       "3  \\#LittleMissRawther #Malayalam #MovieReview\\n\\...  moviereviews  \n",
       "4         https://thegenrejunkie.com/ballerina-2023/  moviereviews  "
      ]
     },
     "execution_count": 24,
     "metadata": {},
     "output_type": "execute_result"
    }
   ],
   "source": [
    "moviereview = reddit.subreddit('moviereviews')\n",
    "moviereviews = moviereview.new(limit=2000)\n",
    "\n",
    "for post in moviereviews:\n",
    "    data2.append([post.created_utc, post.title, post.selftext, post.subreddit])"
   ]
  },
  {
   "cell_type": "code",
   "execution_count": 60,
   "id": "8457e2e7",
   "metadata": {},
   "outputs": [],
   "source": [
    "moviesug = reddit.subreddit('moviesuggestions')\n",
    "moviesuggs = moviesug.hot(limit=2000)\n",
    "\n",
    "for post in moviesuggs:\n",
    "    data2.append([post.created_utc, post.title, post.selftext, post.subreddit])"
   ]
  },
  {
   "cell_type": "code",
   "execution_count": 95,
   "id": "4176e496",
   "metadata": {},
   "outputs": [
    {
     "data": {
      "text/html": [
       "<div>\n",
       "<style scoped>\n",
       "    .dataframe tbody tr th:only-of-type {\n",
       "        vertical-align: middle;\n",
       "    }\n",
       "\n",
       "    .dataframe tbody tr th {\n",
       "        vertical-align: top;\n",
       "    }\n",
       "\n",
       "    .dataframe thead th {\n",
       "        text-align: right;\n",
       "    }\n",
       "</style>\n",
       "<table border=\"1\" class=\"dataframe\">\n",
       "  <thead>\n",
       "    <tr style=\"text-align: right;\">\n",
       "      <th></th>\n",
       "      <th>created_utc</th>\n",
       "      <th>title</th>\n",
       "      <th>self_text</th>\n",
       "      <th>subreddit</th>\n",
       "    </tr>\n",
       "  </thead>\n",
       "  <tbody>\n",
       "    <tr>\n",
       "      <th>5361</th>\n",
       "      <td>1.696345e+09</td>\n",
       "      <td>Suggest some good Indian movies</td>\n",
       "      <td>I really like indian movies, I've watched KGF ...</td>\n",
       "      <td>MovieSuggestions</td>\n",
       "    </tr>\n",
       "    <tr>\n",
       "      <th>5362</th>\n",
       "      <td>1.696364e+09</td>\n",
       "      <td>Unpredictable plot twist</td>\n",
       "      <td>I am looking for movies with unpredictable plo...</td>\n",
       "      <td>MovieSuggestions</td>\n",
       "    </tr>\n",
       "    <tr>\n",
       "      <th>5363</th>\n",
       "      <td>1.696355e+09</td>\n",
       "      <td>What are some Romance movies that work well fo...</td>\n",
       "      <td>This does not include Rom-Coms. Romance/ Drama...</td>\n",
       "      <td>MovieSuggestions</td>\n",
       "    </tr>\n",
       "    <tr>\n",
       "      <th>5364</th>\n",
       "      <td>1.696294e+09</td>\n",
       "      <td>What are some underrated (good but obscure) fo...</td>\n",
       "      <td>I'm looking for some movies that I would never...</td>\n",
       "      <td>MovieSuggestions</td>\n",
       "    </tr>\n",
       "    <tr>\n",
       "      <th>5365</th>\n",
       "      <td>1.696325e+09</td>\n",
       "      <td>Suggest any decent “It was a dark and stormy n...</td>\n",
       "      <td>You know, all those typically less recent movi...</td>\n",
       "      <td>MovieSuggestions</td>\n",
       "    </tr>\n",
       "  </tbody>\n",
       "</table>\n",
       "</div>"
      ],
      "text/plain": [
       "       created_utc                                              title  \\\n",
       "5361  1.696345e+09                    Suggest some good Indian movies   \n",
       "5362  1.696364e+09                           Unpredictable plot twist   \n",
       "5363  1.696355e+09  What are some Romance movies that work well fo...   \n",
       "5364  1.696294e+09  What are some underrated (good but obscure) fo...   \n",
       "5365  1.696325e+09  Suggest any decent “It was a dark and stormy n...   \n",
       "\n",
       "                                              self_text         subreddit  \n",
       "5361  I really like indian movies, I've watched KGF ...  MovieSuggestions  \n",
       "5362  I am looking for movies with unpredictable plo...  MovieSuggestions  \n",
       "5363  This does not include Rom-Coms. Romance/ Drama...  MovieSuggestions  \n",
       "5364  I'm looking for some movies that I would never...  MovieSuggestions  \n",
       "5365  You know, all those typically less recent movi...  MovieSuggestions  "
      ]
     },
     "execution_count": 95,
     "metadata": {},
     "output_type": "execute_result"
    }
   ],
   "source": [
    "review_post = pd.DataFrame(data2, columns = ['created_utc', 'title', 'self_text', 'subreddit'])\n",
    "review_post.tail()"
   ]
  },
  {
   "cell_type": "code",
   "execution_count": 96,
   "id": "4b777f6e",
   "metadata": {},
   "outputs": [
    {
     "data": {
      "text/plain": [
       "MovieSuggestions    2780\n",
       "moviereviews        2586\n",
       "Name: subreddit, dtype: int64"
      ]
     },
     "execution_count": 96,
     "metadata": {},
     "output_type": "execute_result"
    }
   ],
   "source": [
    "review_post['subreddit'].value_counts()"
   ]
  },
  {
   "cell_type": "code",
   "execution_count": 97,
   "id": "ce189d1c",
   "metadata": {},
   "outputs": [
    {
     "data": {
      "text/plain": [
       "(5366, 4)"
      ]
     },
     "execution_count": 97,
     "metadata": {},
     "output_type": "execute_result"
    }
   ],
   "source": [
    "review_post.shape"
   ]
  },
  {
   "cell_type": "code",
   "execution_count": 98,
   "id": "e90a1080",
   "metadata": {},
   "outputs": [],
   "source": [
    "review_post.to_csv('../Data/moviereview_post_data.csv', index=False)"
   ]
  }
 ],
 "metadata": {
  "kernelspec": {
   "display_name": "Python 3 (ipykernel)",
   "language": "python",
   "name": "python3"
  },
  "language_info": {
   "codemirror_mode": {
    "name": "ipython",
    "version": 3
   },
   "file_extension": ".py",
   "mimetype": "text/x-python",
   "name": "python",
   "nbconvert_exporter": "python",
   "pygments_lexer": "ipython3",
   "version": "3.11.4"
  }
 },
 "nbformat": 4,
 "nbformat_minor": 5
}
