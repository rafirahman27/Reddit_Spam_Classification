{
 "cells": [
  {
   "cell_type": "markdown",
   "id": "d9b05a76",
   "metadata": {},
   "source": [
    "### Imports"
   ]
  },
  {
   "cell_type": "code",
   "execution_count": 39,
   "id": "443611a1",
   "metadata": {},
   "outputs": [],
   "source": [
    "# Libraries\n",
    "import pandas as pd\n",
    "import numpy as np\n",
    "import matplotlib.pyplot as plt\n",
    "import seaborn as sns\n",
    "import re\n",
    "\n",
    "from sklearn.feature_extraction.text import CountVectorizer"
   ]
  },
  {
   "cell_type": "code",
   "execution_count": 40,
   "id": "5e245814",
   "metadata": {},
   "outputs": [],
   "source": [
    "# Data\n",
    "spamposts = pd.read_csv('../Data/spam_post_data.csv')\n",
    "moviereviews = pd.read_csv('../Data/moviereview_post_data.csv')"
   ]
  },
  {
   "cell_type": "markdown",
   "id": "9083da97",
   "metadata": {},
   "source": [
    "### Cleaning"
   ]
  },
  {
   "cell_type": "markdown",
   "id": "434a5c83",
   "metadata": {},
   "source": [
    "#### Spam df cleaning"
   ]
  },
  {
   "cell_type": "code",
   "execution_count": 41,
   "id": "8e37d6a2",
   "metadata": {},
   "outputs": [
    {
     "data": {
      "text/html": [
       "<div>\n",
       "<style scoped>\n",
       "    .dataframe tbody tr th:only-of-type {\n",
       "        vertical-align: middle;\n",
       "    }\n",
       "\n",
       "    .dataframe tbody tr th {\n",
       "        vertical-align: top;\n",
       "    }\n",
       "\n",
       "    .dataframe thead th {\n",
       "        text-align: right;\n",
       "    }\n",
       "</style>\n",
       "<table border=\"1\" class=\"dataframe\">\n",
       "  <thead>\n",
       "    <tr style=\"text-align: right;\">\n",
       "      <th></th>\n",
       "      <th>created_utc</th>\n",
       "      <th>title</th>\n",
       "      <th>self_text</th>\n",
       "      <th>subreddit</th>\n",
       "    </tr>\n",
       "  </thead>\n",
       "  <tbody>\n",
       "    <tr>\n",
       "      <th>0</th>\n",
       "      <td>1.697589e+09</td>\n",
       "      <td>Is my friend about to be scammed?</td>\n",
       "      <td>Friend of mine from back in Uni (before we mov...</td>\n",
       "      <td>Scams</td>\n",
       "    </tr>\n",
       "    <tr>\n",
       "      <th>1</th>\n",
       "      <td>1.697586e+09</td>\n",
       "      <td>Just Delt with an AirBnB Scam anyone can do an...</td>\n",
       "      <td>Apparently you can instant book seasonal renta...</td>\n",
       "      <td>Scams</td>\n",
       "    </tr>\n",
       "    <tr>\n",
       "      <th>2</th>\n",
       "      <td>1.697586e+09</td>\n",
       "      <td>Spam caller knew my name and 'address' but it ...</td>\n",
       "      <td>First off I am new to posting on Reddit so ple...</td>\n",
       "      <td>Scams</td>\n",
       "    </tr>\n",
       "    <tr>\n",
       "      <th>3</th>\n",
       "      <td>1.697587e+09</td>\n",
       "      <td>I am waiting on a package…</td>\n",
       "      <td>So, I got this text message and I’m trying to ...</td>\n",
       "      <td>Scams</td>\n",
       "    </tr>\n",
       "    <tr>\n",
       "      <th>4</th>\n",
       "      <td>1.697586e+09</td>\n",
       "      <td>Snapchat Minor Solicitation Scam?</td>\n",
       "      <td>Added a girl on Snapchat from Omegle. Look at ...</td>\n",
       "      <td>Scams</td>\n",
       "    </tr>\n",
       "  </tbody>\n",
       "</table>\n",
       "</div>"
      ],
      "text/plain": [
       "    created_utc                                              title  \\\n",
       "0  1.697589e+09                  Is my friend about to be scammed?   \n",
       "1  1.697586e+09  Just Delt with an AirBnB Scam anyone can do an...   \n",
       "2  1.697586e+09  Spam caller knew my name and 'address' but it ...   \n",
       "3  1.697587e+09                         I am waiting on a package…   \n",
       "4  1.697586e+09                  Snapchat Minor Solicitation Scam?   \n",
       "\n",
       "                                           self_text subreddit  \n",
       "0  Friend of mine from back in Uni (before we mov...     Scams  \n",
       "1  Apparently you can instant book seasonal renta...     Scams  \n",
       "2  First off I am new to posting on Reddit so ple...     Scams  \n",
       "3  So, I got this text message and I’m trying to ...     Scams  \n",
       "4  Added a girl on Snapchat from Omegle. Look at ...     Scams  "
      ]
     },
     "execution_count": 41,
     "metadata": {},
     "output_type": "execute_result"
    }
   ],
   "source": [
    "spamposts.head()"
   ]
  },
  {
   "cell_type": "code",
   "execution_count": 42,
   "id": "d92a2a70",
   "metadata": {},
   "outputs": [
    {
     "data": {
      "text/plain": [
       "(8453, 4)"
      ]
     },
     "execution_count": 42,
     "metadata": {},
     "output_type": "execute_result"
    }
   ],
   "source": [
    "spamposts.shape"
   ]
  },
  {
   "cell_type": "code",
   "execution_count": 43,
   "id": "09d5d73c",
   "metadata": {},
   "outputs": [
    {
     "data": {
      "text/plain": [
       "created_utc       0\n",
       "title             0\n",
       "self_text      3528\n",
       "subreddit         0\n",
       "dtype: int64"
      ]
     },
     "execution_count": 43,
     "metadata": {},
     "output_type": "execute_result"
    }
   ],
   "source": [
    "spamposts.isna().sum()"
   ]
  },
  {
   "cell_type": "code",
   "execution_count": 44,
   "id": "387e0996",
   "metadata": {},
   "outputs": [],
   "source": [
    "spamposts.dropna(inplace=True)"
   ]
  },
  {
   "cell_type": "code",
   "execution_count": 45,
   "id": "34406aa1",
   "metadata": {},
   "outputs": [
    {
     "data": {
      "text/plain": [
       "2128"
      ]
     },
     "execution_count": 45,
     "metadata": {},
     "output_type": "execute_result"
    }
   ],
   "source": [
    "spamposts.duplicated().sum()"
   ]
  },
  {
   "cell_type": "code",
   "execution_count": 46,
   "id": "e2781c04",
   "metadata": {},
   "outputs": [
    {
     "data": {
      "text/plain": [
       "(2797, 4)"
      ]
     },
     "execution_count": 46,
     "metadata": {},
     "output_type": "execute_result"
    }
   ],
   "source": [
    "spamposts.drop_duplicates(inplace=True)\n",
    "spamposts.shape"
   ]
  },
  {
   "cell_type": "code",
   "execution_count": 47,
   "id": "39d7fecb",
   "metadata": {},
   "outputs": [
    {
     "data": {
      "text/plain": [
       "Scams         1084\n",
       "phishing      1030\n",
       "Malware        611\n",
       "scam_radar      72\n",
       "Name: subreddit, dtype: int64"
      ]
     },
     "execution_count": 47,
     "metadata": {},
     "output_type": "execute_result"
    }
   ],
   "source": [
    "spamposts['subreddit'].value_counts()"
   ]
  },
  {
   "cell_type": "markdown",
   "id": "78e7924e",
   "metadata": {},
   "source": [
    "#### Movie Review df cleaning"
   ]
  },
  {
   "cell_type": "code",
   "execution_count": 48,
   "id": "f29cd9e2",
   "metadata": {},
   "outputs": [
    {
     "data": {
      "text/html": [
       "<div>\n",
       "<style scoped>\n",
       "    .dataframe tbody tr th:only-of-type {\n",
       "        vertical-align: middle;\n",
       "    }\n",
       "\n",
       "    .dataframe tbody tr th {\n",
       "        vertical-align: top;\n",
       "    }\n",
       "\n",
       "    .dataframe thead th {\n",
       "        text-align: right;\n",
       "    }\n",
       "</style>\n",
       "<table border=\"1\" class=\"dataframe\">\n",
       "  <thead>\n",
       "    <tr style=\"text-align: right;\">\n",
       "      <th></th>\n",
       "      <th>created_utc</th>\n",
       "      <th>title</th>\n",
       "      <th>self_text</th>\n",
       "      <th>subreddit</th>\n",
       "    </tr>\n",
       "  </thead>\n",
       "  <tbody>\n",
       "    <tr>\n",
       "      <th>0</th>\n",
       "      <td>1.683472e+09</td>\n",
       "      <td>Announcement: Changes, Looking for Mods, Join ...</td>\n",
       "      <td># This Reddit group is going to have a revamp ...</td>\n",
       "      <td>moviereviews</td>\n",
       "    </tr>\n",
       "    <tr>\n",
       "      <th>1</th>\n",
       "      <td>1.697134e+09</td>\n",
       "      <td>Discover the Latest Releases: New Movies from ...</td>\n",
       "      <td>&amp;#x200B;\\n\\n|\\#|Name|Year Released|Genres|\\n|:...</td>\n",
       "      <td>moviereviews</td>\n",
       "    </tr>\n",
       "    <tr>\n",
       "      <th>2</th>\n",
       "      <td>1.697563e+09</td>\n",
       "      <td>Titanic Movie Review - Danger And Hidden Story...</td>\n",
       "      <td>NaN</td>\n",
       "      <td>moviereviews</td>\n",
       "    </tr>\n",
       "    <tr>\n",
       "      <th>3</th>\n",
       "      <td>1.697388e+09</td>\n",
       "      <td>Little Miss Rawther Malayalam Movie Review</td>\n",
       "      <td>\\#LittleMissRawther #Malayalam #MovieReview\\n\\...</td>\n",
       "      <td>moviereviews</td>\n",
       "    </tr>\n",
       "    <tr>\n",
       "      <th>4</th>\n",
       "      <td>1.697208e+09</td>\n",
       "      <td>Ballerina (2023) review – A slick South Korean...</td>\n",
       "      <td>https://thegenrejunkie.com/ballerina-2023/</td>\n",
       "      <td>moviereviews</td>\n",
       "    </tr>\n",
       "  </tbody>\n",
       "</table>\n",
       "</div>"
      ],
      "text/plain": [
       "    created_utc                                              title  \\\n",
       "0  1.683472e+09  Announcement: Changes, Looking for Mods, Join ...   \n",
       "1  1.697134e+09  Discover the Latest Releases: New Movies from ...   \n",
       "2  1.697563e+09  Titanic Movie Review - Danger And Hidden Story...   \n",
       "3  1.697388e+09         Little Miss Rawther Malayalam Movie Review   \n",
       "4  1.697208e+09  Ballerina (2023) review – A slick South Korean...   \n",
       "\n",
       "                                           self_text     subreddit  \n",
       "0  # This Reddit group is going to have a revamp ...  moviereviews  \n",
       "1  &#x200B;\\n\\n|\\#|Name|Year Released|Genres|\\n|:...  moviereviews  \n",
       "2                                                NaN  moviereviews  \n",
       "3  \\#LittleMissRawther #Malayalam #MovieReview\\n\\...  moviereviews  \n",
       "4         https://thegenrejunkie.com/ballerina-2023/  moviereviews  "
      ]
     },
     "execution_count": 48,
     "metadata": {},
     "output_type": "execute_result"
    }
   ],
   "source": [
    "moviereviews.head()"
   ]
  },
  {
   "cell_type": "code",
   "execution_count": 49,
   "id": "796fea4c",
   "metadata": {},
   "outputs": [
    {
     "data": {
      "text/plain": [
       "(2561, 4)"
      ]
     },
     "execution_count": 49,
     "metadata": {},
     "output_type": "execute_result"
    }
   ],
   "source": [
    "moviereviews.shape"
   ]
  },
  {
   "cell_type": "code",
   "execution_count": 50,
   "id": "d6688108",
   "metadata": {},
   "outputs": [
    {
     "data": {
      "text/plain": [
       "created_utc       0\n",
       "title             0\n",
       "self_text      1142\n",
       "subreddit         0\n",
       "dtype: int64"
      ]
     },
     "execution_count": 50,
     "metadata": {},
     "output_type": "execute_result"
    }
   ],
   "source": [
    "moviereviews.isnull().sum()"
   ]
  },
  {
   "cell_type": "code",
   "execution_count": 51,
   "id": "e9e64255",
   "metadata": {},
   "outputs": [],
   "source": [
    "moviereviews.dropna(inplace=True)"
   ]
  },
  {
   "cell_type": "code",
   "execution_count": 52,
   "id": "611a8707",
   "metadata": {},
   "outputs": [],
   "source": [
    "# Chatgpt wrote this \n",
    "def remove_urls(text):\n",
    "    url_pattern = r'https?://\\S+|www\\.\\S+'\n",
    "    return re.sub(url_pattern, '', text)\n",
    "moviereviews['self_text'] = moviereviews['self_text'].apply(remove_urls)"
   ]
  },
  {
   "cell_type": "code",
   "execution_count": 53,
   "id": "02dc552f",
   "metadata": {},
   "outputs": [],
   "source": [
    "moviereviews = moviereviews[moviereviews['self_text'].str.len() > 0]\n"
   ]
  },
  {
   "cell_type": "code",
   "execution_count": 54,
   "id": "5d9d7293",
   "metadata": {},
   "outputs": [
    {
     "data": {
      "text/plain": [
       "473"
      ]
     },
     "execution_count": 54,
     "metadata": {},
     "output_type": "execute_result"
    }
   ],
   "source": [
    "moviereviews.duplicated().sum()"
   ]
  },
  {
   "cell_type": "code",
   "execution_count": 55,
   "id": "f093968f",
   "metadata": {},
   "outputs": [
    {
     "data": {
      "text/plain": [
       "(925, 4)"
      ]
     },
     "execution_count": 55,
     "metadata": {},
     "output_type": "execute_result"
    }
   ],
   "source": [
    "moviereviews.drop_duplicates(inplace=True)\n",
    "moviereviews.shape"
   ]
  },
  {
   "cell_type": "markdown",
   "id": "c4d42e0b",
   "metadata": {},
   "source": [
    "### EDA"
   ]
  },
  {
   "cell_type": "markdown",
   "id": "d628e555",
   "metadata": {},
   "source": [
    "#### Spam Posts "
   ]
  },
  {
   "cell_type": "code",
   "execution_count": 56,
   "id": "30f45514",
   "metadata": {},
   "outputs": [
    {
     "data": {
      "text/html": [
       "<div>\n",
       "<style scoped>\n",
       "    .dataframe tbody tr th:only-of-type {\n",
       "        vertical-align: middle;\n",
       "    }\n",
       "\n",
       "    .dataframe tbody tr th {\n",
       "        vertical-align: top;\n",
       "    }\n",
       "\n",
       "    .dataframe thead th {\n",
       "        text-align: right;\n",
       "    }\n",
       "</style>\n",
       "<table border=\"1\" class=\"dataframe\">\n",
       "  <thead>\n",
       "    <tr style=\"text-align: right;\">\n",
       "      <th></th>\n",
       "      <th>created_utc</th>\n",
       "      <th>title</th>\n",
       "      <th>self_text</th>\n",
       "      <th>subreddit</th>\n",
       "    </tr>\n",
       "  </thead>\n",
       "  <tbody>\n",
       "    <tr>\n",
       "      <th>0</th>\n",
       "      <td>1.697589e+09</td>\n",
       "      <td>Is my friend about to be scammed?</td>\n",
       "      <td>Friend of mine from back in Uni (before we mov...</td>\n",
       "      <td>Scams</td>\n",
       "    </tr>\n",
       "    <tr>\n",
       "      <th>1</th>\n",
       "      <td>1.697586e+09</td>\n",
       "      <td>Just Delt with an AirBnB Scam anyone can do an...</td>\n",
       "      <td>Apparently you can instant book seasonal renta...</td>\n",
       "      <td>Scams</td>\n",
       "    </tr>\n",
       "    <tr>\n",
       "      <th>2</th>\n",
       "      <td>1.697586e+09</td>\n",
       "      <td>Spam caller knew my name and 'address' but it ...</td>\n",
       "      <td>First off I am new to posting on Reddit so ple...</td>\n",
       "      <td>Scams</td>\n",
       "    </tr>\n",
       "    <tr>\n",
       "      <th>3</th>\n",
       "      <td>1.697587e+09</td>\n",
       "      <td>I am waiting on a package…</td>\n",
       "      <td>So, I got this text message and I’m trying to ...</td>\n",
       "      <td>Scams</td>\n",
       "    </tr>\n",
       "    <tr>\n",
       "      <th>4</th>\n",
       "      <td>1.697586e+09</td>\n",
       "      <td>Snapchat Minor Solicitation Scam?</td>\n",
       "      <td>Added a girl on Snapchat from Omegle. Look at ...</td>\n",
       "      <td>Scams</td>\n",
       "    </tr>\n",
       "  </tbody>\n",
       "</table>\n",
       "</div>"
      ],
      "text/plain": [
       "    created_utc                                              title  \\\n",
       "0  1.697589e+09                  Is my friend about to be scammed?   \n",
       "1  1.697586e+09  Just Delt with an AirBnB Scam anyone can do an...   \n",
       "2  1.697586e+09  Spam caller knew my name and 'address' but it ...   \n",
       "3  1.697587e+09                         I am waiting on a package…   \n",
       "4  1.697586e+09                  Snapchat Minor Solicitation Scam?   \n",
       "\n",
       "                                           self_text subreddit  \n",
       "0  Friend of mine from back in Uni (before we mov...     Scams  \n",
       "1  Apparently you can instant book seasonal renta...     Scams  \n",
       "2  First off I am new to posting on Reddit so ple...     Scams  \n",
       "3  So, I got this text message and I’m trying to ...     Scams  \n",
       "4  Added a girl on Snapchat from Omegle. Look at ...     Scams  "
      ]
     },
     "execution_count": 56,
     "metadata": {},
     "output_type": "execute_result"
    }
   ],
   "source": [
    "spamposts.head()"
   ]
  },
  {
   "cell_type": "code",
   "execution_count": 57,
   "id": "f93d8ed7",
   "metadata": {},
   "outputs": [
    {
     "data": {
      "text/html": [
       "<div>\n",
       "<style scoped>\n",
       "    .dataframe tbody tr th:only-of-type {\n",
       "        vertical-align: middle;\n",
       "    }\n",
       "\n",
       "    .dataframe tbody tr th {\n",
       "        vertical-align: top;\n",
       "    }\n",
       "\n",
       "    .dataframe thead th {\n",
       "        text-align: right;\n",
       "    }\n",
       "</style>\n",
       "<table border=\"1\" class=\"dataframe\">\n",
       "  <thead>\n",
       "    <tr style=\"text-align: right;\">\n",
       "      <th></th>\n",
       "      <th>created_utc</th>\n",
       "      <th>title</th>\n",
       "      <th>self_text</th>\n",
       "      <th>subreddit</th>\n",
       "      <th>self_text_len</th>\n",
       "      <th>self_text_count</th>\n",
       "    </tr>\n",
       "  </thead>\n",
       "  <tbody>\n",
       "    <tr>\n",
       "      <th>0</th>\n",
       "      <td>1.697589e+09</td>\n",
       "      <td>Is my friend about to be scammed?</td>\n",
       "      <td>Friend of mine from back in Uni (before we mov...</td>\n",
       "      <td>Scams</td>\n",
       "      <td>939</td>\n",
       "      <td>183</td>\n",
       "    </tr>\n",
       "    <tr>\n",
       "      <th>1</th>\n",
       "      <td>1.697586e+09</td>\n",
       "      <td>Just Delt with an AirBnB Scam anyone can do an...</td>\n",
       "      <td>Apparently you can instant book seasonal renta...</td>\n",
       "      <td>Scams</td>\n",
       "      <td>481</td>\n",
       "      <td>92</td>\n",
       "    </tr>\n",
       "    <tr>\n",
       "      <th>2</th>\n",
       "      <td>1.697586e+09</td>\n",
       "      <td>Spam caller knew my name and 'address' but it ...</td>\n",
       "      <td>First off I am new to posting on Reddit so ple...</td>\n",
       "      <td>Scams</td>\n",
       "      <td>1377</td>\n",
       "      <td>254</td>\n",
       "    </tr>\n",
       "  </tbody>\n",
       "</table>\n",
       "</div>"
      ],
      "text/plain": [
       "    created_utc                                              title  \\\n",
       "0  1.697589e+09                  Is my friend about to be scammed?   \n",
       "1  1.697586e+09  Just Delt with an AirBnB Scam anyone can do an...   \n",
       "2  1.697586e+09  Spam caller knew my name and 'address' but it ...   \n",
       "\n",
       "                                           self_text subreddit  self_text_len  \\\n",
       "0  Friend of mine from back in Uni (before we mov...     Scams            939   \n",
       "1  Apparently you can instant book seasonal renta...     Scams            481   \n",
       "2  First off I am new to posting on Reddit so ple...     Scams           1377   \n",
       "\n",
       "   self_text_count  \n",
       "0              183  \n",
       "1               92  \n",
       "2              254  "
      ]
     },
     "execution_count": 57,
     "metadata": {},
     "output_type": "execute_result"
    }
   ],
   "source": [
    "spamposts['self_text_len'] = spamposts['self_text'].apply(len)\n",
    "spamposts['self_text_count'] = spamposts['self_text'].apply(lambda x: len(x.split()))\n",
    "spamposts.head(3)"
   ]
  },
  {
   "cell_type": "code",
   "execution_count": 58,
   "id": "336bf401",
   "metadata": {},
   "outputs": [
    {
     "data": {
      "text/html": [
       "<div>\n",
       "<style scoped>\n",
       "    .dataframe tbody tr th:only-of-type {\n",
       "        vertical-align: middle;\n",
       "    }\n",
       "\n",
       "    .dataframe tbody tr th {\n",
       "        vertical-align: top;\n",
       "    }\n",
       "\n",
       "    .dataframe thead th {\n",
       "        text-align: right;\n",
       "    }\n",
       "</style>\n",
       "<table border=\"1\" class=\"dataframe\">\n",
       "  <thead>\n",
       "    <tr style=\"text-align: right;\">\n",
       "      <th></th>\n",
       "      <th></th>\n",
       "      <th>self_text_len</th>\n",
       "      <th>self_text_count</th>\n",
       "    </tr>\n",
       "    <tr>\n",
       "      <th></th>\n",
       "      <th>subreddit</th>\n",
       "      <th></th>\n",
       "      <th></th>\n",
       "    </tr>\n",
       "  </thead>\n",
       "  <tbody>\n",
       "    <tr>\n",
       "      <th rowspan=\"4\" valign=\"top\">subreddit</th>\n",
       "      <th>Malware</th>\n",
       "      <td>703.494272</td>\n",
       "      <td>98.638298</td>\n",
       "    </tr>\n",
       "    <tr>\n",
       "      <th>Scams</th>\n",
       "      <td>902.959410</td>\n",
       "      <td>164.819188</td>\n",
       "    </tr>\n",
       "    <tr>\n",
       "      <th>phishing</th>\n",
       "      <td>729.627184</td>\n",
       "      <td>121.966990</td>\n",
       "    </tr>\n",
       "    <tr>\n",
       "      <th>scam_radar</th>\n",
       "      <td>499.888889</td>\n",
       "      <td>81.541667</td>\n",
       "    </tr>\n",
       "  </tbody>\n",
       "</table>\n",
       "</div>"
      ],
      "text/plain": [
       "                      self_text_len  self_text_count\n",
       "          subreddit                                 \n",
       "subreddit Malware        703.494272        98.638298\n",
       "          Scams          902.959410       164.819188\n",
       "          phishing       729.627184       121.966990\n",
       "          scam_radar     499.888889        81.541667"
      ]
     },
     "execution_count": 58,
     "metadata": {},
     "output_type": "execute_result"
    }
   ],
   "source": [
    "text = spamposts[['subreddit', 'self_text_len', 'self_text_count']]\n",
    "text_mean = []\n",
    "\n",
    "for t in text.columns:\n",
    "    t_mean = text.groupby(t).agg({\n",
    "        'self_text_len': 'mean',\n",
    "        'self_text_count' : 'mean'\n",
    "    })\n",
    "    text_mean.append(t_mean)\n",
    "\n",
    "text_mean = pd.concat(text_mean, keys=text.columns[::3])\n",
    "text_mean"
   ]
  },
  {
   "cell_type": "code",
   "execution_count": 59,
   "id": "3b021355",
   "metadata": {},
   "outputs": [],
   "source": [
    "scams = spamposts[spamposts['subreddit'] == 'Scams'][['self_text_count']]\n",
    "malware = spamposts[spamposts['subreddit'] == 'Malware'][['self_text_count']]\n",
    "phishing = spamposts[spamposts['subreddit'] == 'phishing'][['self_text_count']]\n",
    "scamradar = spamposts[spamposts['subreddit'] == 'scam_radar'][['self_text_count']]"
   ]
  },
  {
   "cell_type": "code",
   "execution_count": 60,
   "id": "bc2e59e9",
   "metadata": {},
   "outputs": [
    {
     "data": {
      "text/plain": [
       "<matplotlib.legend.Legend at 0x16975fbd0>"
      ]
     },
     "execution_count": 60,
     "metadata": {},
     "output_type": "execute_result"
    },
    {
     "data": {
      "image/png": "[encoded data removed]",
      "text/plain": [
       "<Figure size 1500x1500 with 4 Axes>"
      ]
     },
     "metadata": {},
     "output_type": "display_data"
    }
   ],
   "source": [
    "fig, ax = plt.subplots(2,2, figsize=(15,15))\n",
    "\n",
    "sns.histplot(data=scams, ax=ax[0, 0], bins=80, label='r/Scams', color ='red')\n",
    "ax[0, 0].set_xlim(0, 3000)\n",
    "ax[0, 0].legend()\n",
    "sns.histplot(data=malware, ax=ax[0, 1], label='r/Malware', color = 'purple')\n",
    "ax[0, 1].set_ylim(0, 80)\n",
    "ax[0, 1].set_xlim(0, 1400)\n",
    "ax[0, 1].legend()\n",
    "sns.histplot(data=phishing, ax=ax[1, 0], label='r/Phishing', color='pink')\n",
    "ax[1, 0].set_ylim(0, 150)\n",
    "ax[1, 0].set_xlim(0, 1400)\n",
    "ax[1, 0].legend()\n",
    "sns.histplot(data=scamradar, ax=ax[1, 1], label='r/Scam Radar', color='turquoise')\n",
    "ax[1, 1].set_ylim(0, 50)\n",
    "ax[1, 1].set_xlim(0, 550)\n",
    "ax[1, 1].legend()"
   ]
  },
  {
   "cell_type": "code",
   "execution_count": 61,
   "id": "67a7a8e2",
   "metadata": {},
   "outputs": [
    {
     "data": {
      "text/html": [
       "<div>\n",
       "<style scoped>\n",
       "    .dataframe tbody tr th:only-of-type {\n",
       "        vertical-align: middle;\n",
       "    }\n",
       "\n",
       "    .dataframe tbody tr th {\n",
       "        vertical-align: top;\n",
       "    }\n",
       "\n",
       "    .dataframe thead th {\n",
       "        text-align: right;\n",
       "    }\n",
       "</style>\n",
       "<table border=\"1\" class=\"dataframe\">\n",
       "  <thead>\n",
       "    <tr style=\"text-align: right;\">\n",
       "      <th></th>\n",
       "      <th>00</th>\n",
       "      <th>000</th>\n",
       "      <th>0000</th>\n",
       "      <th>000000</th>\n",
       "      <th>00000000</th>\n",
       "      <th>00000001</th>\n",
       "      <th>00000009</th>\n",
       "      <th>0000011</th>\n",
       "      <th>00001</th>\n",
       "      <th>000018ea0000</th>\n",
       "      <th>...</th>\n",
       "      <th>𝒘𝒉𝒂𝒕</th>\n",
       "      <th>𝒘𝒉𝒆𝒓𝒆</th>\n",
       "      <th>𝒘𝒉𝒊𝒄𝒉</th>\n",
       "      <th>𝒘𝒊𝒕𝒉𝒅𝒓𝒂𝒘</th>\n",
       "      <th>𝒘𝒐𝒖𝒍𝒅</th>\n",
       "      <th>𝟏𝟔𝟓𝒌</th>\n",
       "      <th>𝟐𝟗𝟖</th>\n",
       "      <th>𝟓𝟑𝟔𝟐</th>\n",
       "      <th>𝟔𝟏𝟖𝟔𝟎𝟎𝟕𝟑𝟒𝟎𝟒</th>\n",
       "      <th>𝟕𝟐𝟓</th>\n",
       "    </tr>\n",
       "  </thead>\n",
       "  <tbody>\n",
       "    <tr>\n",
       "      <th>0</th>\n",
       "      <td>0</td>\n",
       "      <td>0</td>\n",
       "      <td>0</td>\n",
       "      <td>0</td>\n",
       "      <td>0</td>\n",
       "      <td>0</td>\n",
       "      <td>0</td>\n",
       "      <td>0</td>\n",
       "      <td>0</td>\n",
       "      <td>0</td>\n",
       "      <td>...</td>\n",
       "      <td>0</td>\n",
       "      <td>0</td>\n",
       "      <td>0</td>\n",
       "      <td>0</td>\n",
       "      <td>0</td>\n",
       "      <td>0</td>\n",
       "      <td>0</td>\n",
       "      <td>0</td>\n",
       "      <td>0</td>\n",
       "      <td>0</td>\n",
       "    </tr>\n",
       "    <tr>\n",
       "      <th>1</th>\n",
       "      <td>0</td>\n",
       "      <td>0</td>\n",
       "      <td>0</td>\n",
       "      <td>0</td>\n",
       "      <td>0</td>\n",
       "      <td>0</td>\n",
       "      <td>0</td>\n",
       "      <td>0</td>\n",
       "      <td>0</td>\n",
       "      <td>0</td>\n",
       "      <td>...</td>\n",
       "      <td>0</td>\n",
       "      <td>0</td>\n",
       "      <td>0</td>\n",
       "      <td>0</td>\n",
       "      <td>0</td>\n",
       "      <td>0</td>\n",
       "      <td>0</td>\n",
       "      <td>0</td>\n",
       "      <td>0</td>\n",
       "      <td>0</td>\n",
       "    </tr>\n",
       "    <tr>\n",
       "      <th>2</th>\n",
       "      <td>0</td>\n",
       "      <td>0</td>\n",
       "      <td>0</td>\n",
       "      <td>0</td>\n",
       "      <td>0</td>\n",
       "      <td>0</td>\n",
       "      <td>0</td>\n",
       "      <td>0</td>\n",
       "      <td>0</td>\n",
       "      <td>0</td>\n",
       "      <td>...</td>\n",
       "      <td>0</td>\n",
       "      <td>0</td>\n",
       "      <td>0</td>\n",
       "      <td>0</td>\n",
       "      <td>0</td>\n",
       "      <td>0</td>\n",
       "      <td>0</td>\n",
       "      <td>0</td>\n",
       "      <td>0</td>\n",
       "      <td>0</td>\n",
       "    </tr>\n",
       "    <tr>\n",
       "      <th>3</th>\n",
       "      <td>0</td>\n",
       "      <td>0</td>\n",
       "      <td>0</td>\n",
       "      <td>0</td>\n",
       "      <td>0</td>\n",
       "      <td>0</td>\n",
       "      <td>0</td>\n",
       "      <td>0</td>\n",
       "      <td>0</td>\n",
       "      <td>0</td>\n",
       "      <td>...</td>\n",
       "      <td>0</td>\n",
       "      <td>0</td>\n",
       "      <td>0</td>\n",
       "      <td>0</td>\n",
       "      <td>0</td>\n",
       "      <td>0</td>\n",
       "      <td>0</td>\n",
       "      <td>0</td>\n",
       "      <td>0</td>\n",
       "      <td>0</td>\n",
       "    </tr>\n",
       "    <tr>\n",
       "      <th>4</th>\n",
       "      <td>0</td>\n",
       "      <td>0</td>\n",
       "      <td>0</td>\n",
       "      <td>0</td>\n",
       "      <td>0</td>\n",
       "      <td>0</td>\n",
       "      <td>0</td>\n",
       "      <td>0</td>\n",
       "      <td>0</td>\n",
       "      <td>0</td>\n",
       "      <td>...</td>\n",
       "      <td>0</td>\n",
       "      <td>0</td>\n",
       "      <td>0</td>\n",
       "      <td>0</td>\n",
       "      <td>0</td>\n",
       "      <td>0</td>\n",
       "      <td>0</td>\n",
       "      <td>0</td>\n",
       "      <td>0</td>\n",
       "      <td>0</td>\n",
       "    </tr>\n",
       "  </tbody>\n",
       "</table>\n",
       "<p>5 rows × 19868 columns</p>\n",
       "</div>"
      ],
      "text/plain": [
       "   00  000  0000  000000  00000000  00000001  00000009  0000011  00001  \\\n",
       "0   0    0     0       0         0         0         0        0      0   \n",
       "1   0    0     0       0         0         0         0        0      0   \n",
       "2   0    0     0       0         0         0         0        0      0   \n",
       "3   0    0     0       0         0         0         0        0      0   \n",
       "4   0    0     0       0         0         0         0        0      0   \n",
       "\n",
       "   000018ea0000  ...  𝒘𝒉𝒂𝒕  𝒘𝒉𝒆𝒓𝒆  𝒘𝒉𝒊𝒄𝒉  𝒘𝒊𝒕𝒉𝒅𝒓𝒂𝒘  𝒘𝒐𝒖𝒍𝒅  𝟏𝟔𝟓𝒌  𝟐𝟗𝟖  𝟓𝟑𝟔𝟐  \\\n",
       "0             0  ...     0      0      0         0      0     0    0     0   \n",
       "1             0  ...     0      0      0         0      0     0    0     0   \n",
       "2             0  ...     0      0      0         0      0     0    0     0   \n",
       "3             0  ...     0      0      0         0      0     0    0     0   \n",
       "4             0  ...     0      0      0         0      0     0    0     0   \n",
       "\n",
       "   𝟔𝟏𝟖𝟔𝟎𝟎𝟕𝟑𝟒𝟎𝟒  𝟕𝟐𝟓  \n",
       "0            0    0  \n",
       "1            0    0  \n",
       "2            0    0  \n",
       "3            0    0  \n",
       "4            0    0  \n",
       "\n",
       "[5 rows x 19868 columns]"
      ]
     },
     "execution_count": 61,
     "metadata": {},
     "output_type": "execute_result"
    }
   ],
   "source": [
    "cvec = CountVectorizer(stop_words='english')\n",
    "cvec_text = pd.DataFrame((cvec.fit_transform(spamposts['self_text'])).todense(), \n",
    "                         columns= cvec.get_feature_names_out())\n",
    "cvec_text.head()"
   ]
  },
  {
   "cell_type": "code",
   "execution_count": 62,
   "id": "a8f97b33",
   "metadata": {},
   "outputs": [
    {
     "data": {
      "text/plain": [
       "<Axes: >"
      ]
     },
     "execution_count": 62,
     "metadata": {},
     "output_type": "execute_result"
    },
    {
     "data": {
      "image/png": "[encoded data removed]",
      "text/plain": [
       "<Figure size 1500x800 with 1 Axes>"
      ]
     },
     "metadata": {},
     "output_type": "display_data"
    }
   ],
   "source": [
    "plt.figure(figsize=(15,8))\n",
    "cvec_text.sum().sort_values(ascending=False).head(20).plot(kind='barh')"
   ]
  },
  {
   "cell_type": "code",
   "execution_count": 63,
   "id": "8e7f0657",
   "metadata": {},
   "outputs": [
    {
     "data": {
      "text/plain": [
       "<Axes: >"
      ]
     },
     "execution_count": 63,
     "metadata": {},
     "output_type": "execute_result"
    },
    {
     "name": "stderr",
     "output_type": "stream",
     "text": [
      "/Users/anaconda3/lib/python3.11/site-packages/IPython/core/events.py:89: UserWarning: Glyph 120789 (\\N{MATHEMATICAL BOLD DIGIT SEVEN}) missing from current font.\n",
      "  func(*args, **kwargs)\n",
      "/Users/anaconda3/lib/python3.11/site-packages/IPython/core/events.py:89: UserWarning: Glyph 120784 (\\N{MATHEMATICAL BOLD DIGIT TWO}) missing from current font.\n",
      "  func(*args, **kwargs)\n",
      "/Users/anaconda3/lib/python3.11/site-packages/IPython/core/events.py:89: UserWarning: Glyph 120787 (\\N{MATHEMATICAL BOLD DIGIT FIVE}) missing from current font.\n",
      "  func(*args, **kwargs)\n",
      "/Users/anaconda3/lib/python3.11/site-packages/IPython/core/pylabtools.py:152: UserWarning: Glyph 120789 (\\N{MATHEMATICAL BOLD DIGIT SEVEN}) missing from current font.\n",
      "  fig.canvas.print_figure(bytes_io, **kw)\n",
      "/Users/anaconda3/lib/python3.11/site-packages/IPython/core/pylabtools.py:152: UserWarning: Glyph 120784 (\\N{MATHEMATICAL BOLD DIGIT TWO}) missing from current font.\n",
      "  fig.canvas.print_figure(bytes_io, **kw)\n",
      "/Users/anaconda3/lib/python3.11/site-packages/IPython/core/pylabtools.py:152: UserWarning: Glyph 120787 (\\N{MATHEMATICAL BOLD DIGIT FIVE}) missing from current font.\n",
      "  fig.canvas.print_figure(bytes_io, **kw)\n"
     ]
    },
    {
     "data": {
      "image/png": "[encoded data removed]",
      "text/plain": [
       "<Figure size 1500x800 with 1 Axes>"
      ]
     },
     "metadata": {},
     "output_type": "display_data"
    }
   ],
   "source": [
    "plt.figure(figsize=(15,8))\n",
    "cvec_text.sum().sort_values(ascending=False).tail(20).plot(kind='barh')"
   ]
  },
  {
   "cell_type": "code",
   "execution_count": 64,
   "id": "d1b89be2",
   "metadata": {},
   "outputs": [],
   "source": [
    "punctuation = ['.',',','?','!','\"', \"'\", ':', ';']\n",
    "\n",
    "spamposts['punc_count'] = [sum (1 for punc in status if punc in punctuation) \n",
    "                           for status in spamposts['self_text']]\n",
    "\n",
    "scams_punc = spamposts[spamposts['subreddit'] == 'Scams'][['punc_count']]\n",
    "malware_punc = spamposts[spamposts['subreddit'] == 'Malware'][['punc_count']]\n",
    "phishing_punc = spamposts[spamposts['subreddit'] == 'phishing'][['punc_count']]\n",
    "scamradar_punc = spamposts[spamposts['subreddit'] == 'scam_radar'][['punc_count']]"
   ]
  },
  {
   "cell_type": "code",
   "execution_count": 65,
   "id": "fd103aec",
   "metadata": {},
   "outputs": [
    {
     "data": {
      "text/plain": [
       "<matplotlib.legend.Legend at 0x1579f1cd0>"
      ]
     },
     "execution_count": 65,
     "metadata": {},
     "output_type": "execute_result"
    },
    {
     "data": {
      "image/png": "[encoded data removed]",
      "text/plain": [
       "<Figure size 2500x2000 with 4 Axes>"
      ]
     },
     "metadata": {},
     "output_type": "display_data"
    }
   ],
   "source": [
    "fig, ax = plt.subplots(2,2, figsize=(25,20))\n",
    "\n",
    "sns.histplot(data=scams_punc, ax=ax[0, 0], bins=100, label='r/Scams', color ='red')\n",
    "ax[0, 0].set_ylim(0, 480)\n",
    "ax[0, 0].set_xlim(0, 400)\n",
    "ax[0, 0].legend()\n",
    "sns.histplot(data=malware_punc, ax=ax[0, 1],bins=100, label='r/Malware', color = 'purple')\n",
    "ax[0, 1].set_xlim(0, 400)\n",
    "ax[0, 1].legend()\n",
    "sns.histplot(data=phishing_punc, ax=ax[1, 0], label='r/Phishing', color='pink')\n",
    "ax[1, 0].set_xlim(0, 400)\n",
    "ax[1, 0].legend()\n",
    "sns.histplot(data=scamradar_punc, ax=ax[1, 1], bins=100, label='r/Scam Radar', color='turquoise')\n",
    "ax[1, 1].set_ylim(0, 18)\n",
    "ax[1, 1].set_xlim(0, 110)\n",
    "ax[1, 1].legend()"
   ]
  },
  {
   "cell_type": "code",
   "execution_count": 66,
   "id": "8764db58",
   "metadata": {},
   "outputs": [
    {
     "data": {
      "text/plain": [
       "punc_count    20.073801\n",
       "dtype: float64"
      ]
     },
     "execution_count": 66,
     "metadata": {},
     "output_type": "execute_result"
    }
   ],
   "source": [
    "scams_punc.mean()"
   ]
  },
  {
   "cell_type": "code",
   "execution_count": 67,
   "id": "26dda624",
   "metadata": {},
   "outputs": [
    {
     "data": {
      "text/plain": [
       "[punc_count    20.073801\n",
       " dtype: float64,\n",
       " punc_count    21.949264\n",
       " dtype: float64,\n",
       " punc_count    18.447573\n",
       " dtype: float64,\n",
       " punc_count    11.236111\n",
       " dtype: float64]"
      ]
     },
     "execution_count": 67,
     "metadata": {},
     "output_type": "execute_result"
    }
   ],
   "source": [
    "means = [scams_punc.mean(), malware_punc.mean(), phishing_punc.mean(), scamradar_punc.mean()]\n",
    "means"
   ]
  },
  {
   "cell_type": "markdown",
   "id": "88d6b703",
   "metadata": {},
   "source": [
    "#### Movie Reviews"
   ]
  },
  {
   "cell_type": "code",
   "execution_count": 68,
   "id": "f48c9719",
   "metadata": {},
   "outputs": [
    {
     "data": {
      "text/html": [
       "<div>\n",
       "<style scoped>\n",
       "    .dataframe tbody tr th:only-of-type {\n",
       "        vertical-align: middle;\n",
       "    }\n",
       "\n",
       "    .dataframe tbody tr th {\n",
       "        vertical-align: top;\n",
       "    }\n",
       "\n",
       "    .dataframe thead th {\n",
       "        text-align: right;\n",
       "    }\n",
       "</style>\n",
       "<table border=\"1\" class=\"dataframe\">\n",
       "  <thead>\n",
       "    <tr style=\"text-align: right;\">\n",
       "      <th></th>\n",
       "      <th>created_utc</th>\n",
       "      <th>title</th>\n",
       "      <th>self_text</th>\n",
       "      <th>subreddit</th>\n",
       "    </tr>\n",
       "  </thead>\n",
       "  <tbody>\n",
       "    <tr>\n",
       "      <th>0</th>\n",
       "      <td>1.683472e+09</td>\n",
       "      <td>Announcement: Changes, Looking for Mods, Join ...</td>\n",
       "      <td># This Reddit group is going to have a revamp ...</td>\n",
       "      <td>moviereviews</td>\n",
       "    </tr>\n",
       "    <tr>\n",
       "      <th>1</th>\n",
       "      <td>1.697134e+09</td>\n",
       "      <td>Discover the Latest Releases: New Movies from ...</td>\n",
       "      <td>&amp;#x200B;\\n\\n|\\#|Name|Year Released|Genres|\\n|:...</td>\n",
       "      <td>moviereviews</td>\n",
       "    </tr>\n",
       "    <tr>\n",
       "      <th>3</th>\n",
       "      <td>1.697388e+09</td>\n",
       "      <td>Little Miss Rawther Malayalam Movie Review</td>\n",
       "      <td>\\#LittleMissRawther #Malayalam #MovieReview\\n\\...</td>\n",
       "      <td>moviereviews</td>\n",
       "    </tr>\n",
       "    <tr>\n",
       "      <th>6</th>\n",
       "      <td>1.697134e+09</td>\n",
       "      <td>The John Wick series is a masterpiece.</td>\n",
       "      <td>These films get a lot of praise as action movi...</td>\n",
       "      <td>moviereviews</td>\n",
       "    </tr>\n",
       "    <tr>\n",
       "      <th>8</th>\n",
       "      <td>1.697090e+09</td>\n",
       "      <td>Who are your top 5 movie creators of all time?</td>\n",
       "      <td>This includes people who just make the best mo...</td>\n",
       "      <td>moviereviews</td>\n",
       "    </tr>\n",
       "  </tbody>\n",
       "</table>\n",
       "</div>"
      ],
      "text/plain": [
       "    created_utc                                              title  \\\n",
       "0  1.683472e+09  Announcement: Changes, Looking for Mods, Join ...   \n",
       "1  1.697134e+09  Discover the Latest Releases: New Movies from ...   \n",
       "3  1.697388e+09         Little Miss Rawther Malayalam Movie Review   \n",
       "6  1.697134e+09             The John Wick series is a masterpiece.   \n",
       "8  1.697090e+09     Who are your top 5 movie creators of all time?   \n",
       "\n",
       "                                           self_text     subreddit  \n",
       "0  # This Reddit group is going to have a revamp ...  moviereviews  \n",
       "1  &#x200B;\\n\\n|\\#|Name|Year Released|Genres|\\n|:...  moviereviews  \n",
       "3  \\#LittleMissRawther #Malayalam #MovieReview\\n\\...  moviereviews  \n",
       "6  These films get a lot of praise as action movi...  moviereviews  \n",
       "8  This includes people who just make the best mo...  moviereviews  "
      ]
     },
     "execution_count": 68,
     "metadata": {},
     "output_type": "execute_result"
    }
   ],
   "source": [
    "moviereviews.head()"
   ]
  },
  {
   "cell_type": "code",
   "execution_count": 69,
   "id": "1fd1c53c",
   "metadata": {},
   "outputs": [
    {
     "data": {
      "text/html": [
       "<div>\n",
       "<style scoped>\n",
       "    .dataframe tbody tr th:only-of-type {\n",
       "        vertical-align: middle;\n",
       "    }\n",
       "\n",
       "    .dataframe tbody tr th {\n",
       "        vertical-align: top;\n",
       "    }\n",
       "\n",
       "    .dataframe thead th {\n",
       "        text-align: right;\n",
       "    }\n",
       "</style>\n",
       "<table border=\"1\" class=\"dataframe\">\n",
       "  <thead>\n",
       "    <tr style=\"text-align: right;\">\n",
       "      <th></th>\n",
       "      <th>created_utc</th>\n",
       "      <th>title</th>\n",
       "      <th>self_text</th>\n",
       "      <th>subreddit</th>\n",
       "      <th>self_text_len</th>\n",
       "      <th>self_text_count</th>\n",
       "    </tr>\n",
       "  </thead>\n",
       "  <tbody>\n",
       "    <tr>\n",
       "      <th>0</th>\n",
       "      <td>1.683472e+09</td>\n",
       "      <td>Announcement: Changes, Looking for Mods, Join ...</td>\n",
       "      <td># This Reddit group is going to have a revamp ...</td>\n",
       "      <td>moviereviews</td>\n",
       "      <td>289</td>\n",
       "      <td>53</td>\n",
       "    </tr>\n",
       "    <tr>\n",
       "      <th>1</th>\n",
       "      <td>1.697134e+09</td>\n",
       "      <td>Discover the Latest Releases: New Movies from ...</td>\n",
       "      <td>&amp;#x200B;\\n\\n|\\#|Name|Year Released|Genres|\\n|:...</td>\n",
       "      <td>moviereviews</td>\n",
       "      <td>2300</td>\n",
       "      <td>298</td>\n",
       "    </tr>\n",
       "    <tr>\n",
       "      <th>3</th>\n",
       "      <td>1.697388e+09</td>\n",
       "      <td>Little Miss Rawther Malayalam Movie Review</td>\n",
       "      <td>\\#LittleMissRawther #Malayalam #MovieReview\\n\\...</td>\n",
       "      <td>moviereviews</td>\n",
       "      <td>155</td>\n",
       "      <td>20</td>\n",
       "    </tr>\n",
       "  </tbody>\n",
       "</table>\n",
       "</div>"
      ],
      "text/plain": [
       "    created_utc                                              title  \\\n",
       "0  1.683472e+09  Announcement: Changes, Looking for Mods, Join ...   \n",
       "1  1.697134e+09  Discover the Latest Releases: New Movies from ...   \n",
       "3  1.697388e+09         Little Miss Rawther Malayalam Movie Review   \n",
       "\n",
       "                                           self_text     subreddit  \\\n",
       "0  # This Reddit group is going to have a revamp ...  moviereviews   \n",
       "1  &#x200B;\\n\\n|\\#|Name|Year Released|Genres|\\n|:...  moviereviews   \n",
       "3  \\#LittleMissRawther #Malayalam #MovieReview\\n\\...  moviereviews   \n",
       "\n",
       "   self_text_len  self_text_count  \n",
       "0            289               53  \n",
       "1           2300              298  \n",
       "3            155               20  "
      ]
     },
     "execution_count": 69,
     "metadata": {},
     "output_type": "execute_result"
    }
   ],
   "source": [
    "moviereviews['self_text_len'] = moviereviews['self_text'].apply(len)\n",
    "moviereviews['self_text_count'] = moviereviews['self_text'].apply(lambda x: len(x.split()))\n",
    "moviereviews.head(3)"
   ]
  },
  {
   "cell_type": "code",
   "execution_count": 70,
   "id": "3a330aef",
   "metadata": {},
   "outputs": [
    {
     "data": {
      "text/plain": [
       "<matplotlib.legend.Legend at 0x16a010850>"
      ]
     },
     "execution_count": 70,
     "metadata": {},
     "output_type": "execute_result"
    },
    {
     "data": {
      "image/png": "[encoded data removed]",
      "text/plain": [
       "<Figure size 1500x800 with 2 Axes>"
      ]
     },
     "metadata": {},
     "output_type": "display_data"
    }
   ],
   "source": [
    "fig, ax = plt.subplots(1,2, figsize=(15,8))\n",
    "\n",
    "sns.histplot(data=moviereviews['self_text_len'], ax=ax[0], bins=80, label='Text Length', \n",
    "             color ='red')\n",
    "ax[0].legend()\n",
    "sns.histplot(data=moviereviews['self_text_count'], ax=ax[1], label='Word Count', color = 'purple')\n",
    "ax[1].legend()"
   ]
  },
  {
   "cell_type": "code",
   "execution_count": 71,
   "id": "5c94f470",
   "metadata": {},
   "outputs": [
    {
     "data": {
      "text/html": [
       "<div>\n",
       "<style scoped>\n",
       "    .dataframe tbody tr th:only-of-type {\n",
       "        vertical-align: middle;\n",
       "    }\n",
       "\n",
       "    .dataframe tbody tr th {\n",
       "        vertical-align: top;\n",
       "    }\n",
       "\n",
       "    .dataframe thead th {\n",
       "        text-align: right;\n",
       "    }\n",
       "</style>\n",
       "<table border=\"1\" class=\"dataframe\">\n",
       "  <thead>\n",
       "    <tr style=\"text-align: right;\">\n",
       "      <th></th>\n",
       "      <th>00</th>\n",
       "      <th>000</th>\n",
       "      <th>007</th>\n",
       "      <th>01</th>\n",
       "      <th>05</th>\n",
       "      <th>10</th>\n",
       "      <th>100</th>\n",
       "      <th>1000</th>\n",
       "      <th>1000000000</th>\n",
       "      <th>1001</th>\n",
       "      <th>...</th>\n",
       "      <th>மக</th>\n",
       "      <th>மன</th>\n",
       "      <th>மல</th>\n",
       "      <th>யண</th>\n",
       "      <th>ரம</th>\n",
       "      <th>றத</th>\n",
       "      <th>லப</th>\n",
       "      <th>லம</th>\n",
       "      <th>வசனத</th>\n",
       "      <th>ஷன</th>\n",
       "    </tr>\n",
       "  </thead>\n",
       "  <tbody>\n",
       "    <tr>\n",
       "      <th>0</th>\n",
       "      <td>0</td>\n",
       "      <td>0</td>\n",
       "      <td>0</td>\n",
       "      <td>0</td>\n",
       "      <td>0</td>\n",
       "      <td>0</td>\n",
       "      <td>0</td>\n",
       "      <td>0</td>\n",
       "      <td>0</td>\n",
       "      <td>0</td>\n",
       "      <td>...</td>\n",
       "      <td>0</td>\n",
       "      <td>0</td>\n",
       "      <td>0</td>\n",
       "      <td>0</td>\n",
       "      <td>0</td>\n",
       "      <td>0</td>\n",
       "      <td>0</td>\n",
       "      <td>0</td>\n",
       "      <td>0</td>\n",
       "      <td>0</td>\n",
       "    </tr>\n",
       "    <tr>\n",
       "      <th>1</th>\n",
       "      <td>0</td>\n",
       "      <td>0</td>\n",
       "      <td>0</td>\n",
       "      <td>0</td>\n",
       "      <td>0</td>\n",
       "      <td>1</td>\n",
       "      <td>0</td>\n",
       "      <td>0</td>\n",
       "      <td>0</td>\n",
       "      <td>0</td>\n",
       "      <td>...</td>\n",
       "      <td>0</td>\n",
       "      <td>0</td>\n",
       "      <td>0</td>\n",
       "      <td>0</td>\n",
       "      <td>0</td>\n",
       "      <td>0</td>\n",
       "      <td>0</td>\n",
       "      <td>0</td>\n",
       "      <td>0</td>\n",
       "      <td>0</td>\n",
       "    </tr>\n",
       "    <tr>\n",
       "      <th>2</th>\n",
       "      <td>0</td>\n",
       "      <td>0</td>\n",
       "      <td>0</td>\n",
       "      <td>0</td>\n",
       "      <td>0</td>\n",
       "      <td>0</td>\n",
       "      <td>0</td>\n",
       "      <td>0</td>\n",
       "      <td>0</td>\n",
       "      <td>0</td>\n",
       "      <td>...</td>\n",
       "      <td>0</td>\n",
       "      <td>0</td>\n",
       "      <td>0</td>\n",
       "      <td>0</td>\n",
       "      <td>0</td>\n",
       "      <td>0</td>\n",
       "      <td>0</td>\n",
       "      <td>0</td>\n",
       "      <td>0</td>\n",
       "      <td>0</td>\n",
       "    </tr>\n",
       "    <tr>\n",
       "      <th>3</th>\n",
       "      <td>0</td>\n",
       "      <td>0</td>\n",
       "      <td>0</td>\n",
       "      <td>0</td>\n",
       "      <td>0</td>\n",
       "      <td>0</td>\n",
       "      <td>0</td>\n",
       "      <td>0</td>\n",
       "      <td>0</td>\n",
       "      <td>0</td>\n",
       "      <td>...</td>\n",
       "      <td>0</td>\n",
       "      <td>0</td>\n",
       "      <td>0</td>\n",
       "      <td>0</td>\n",
       "      <td>0</td>\n",
       "      <td>0</td>\n",
       "      <td>0</td>\n",
       "      <td>0</td>\n",
       "      <td>0</td>\n",
       "      <td>0</td>\n",
       "    </tr>\n",
       "    <tr>\n",
       "      <th>4</th>\n",
       "      <td>0</td>\n",
       "      <td>0</td>\n",
       "      <td>0</td>\n",
       "      <td>0</td>\n",
       "      <td>0</td>\n",
       "      <td>0</td>\n",
       "      <td>0</td>\n",
       "      <td>0</td>\n",
       "      <td>0</td>\n",
       "      <td>0</td>\n",
       "      <td>...</td>\n",
       "      <td>0</td>\n",
       "      <td>0</td>\n",
       "      <td>0</td>\n",
       "      <td>0</td>\n",
       "      <td>0</td>\n",
       "      <td>0</td>\n",
       "      <td>0</td>\n",
       "      <td>0</td>\n",
       "      <td>0</td>\n",
       "      <td>0</td>\n",
       "    </tr>\n",
       "  </tbody>\n",
       "</table>\n",
       "<p>5 rows × 14990 columns</p>\n",
       "</div>"
      ],
      "text/plain": [
       "   00  000  007  01  05  10  100  1000  1000000000  1001  ...  மக  மன  மல  யண  \\\n",
       "0   0    0    0   0   0   0    0     0           0     0  ...   0   0   0   0   \n",
       "1   0    0    0   0   0   1    0     0           0     0  ...   0   0   0   0   \n",
       "2   0    0    0   0   0   0    0     0           0     0  ...   0   0   0   0   \n",
       "3   0    0    0   0   0   0    0     0           0     0  ...   0   0   0   0   \n",
       "4   0    0    0   0   0   0    0     0           0     0  ...   0   0   0   0   \n",
       "\n",
       "   ரம  றத  லப  லம  வசனத  ஷன  \n",
       "0   0   0   0   0     0   0  \n",
       "1   0   0   0   0     0   0  \n",
       "2   0   0   0   0     0   0  \n",
       "3   0   0   0   0     0   0  \n",
       "4   0   0   0   0     0   0  \n",
       "\n",
       "[5 rows x 14990 columns]"
      ]
     },
     "execution_count": 71,
     "metadata": {},
     "output_type": "execute_result"
    }
   ],
   "source": [
    "cvec2 = CountVectorizer(stop_words='english')\n",
    "cvec2_text = pd.DataFrame((cvec2.fit_transform(moviereviews['self_text'])).todense(), \n",
    "                         columns= cvec2.get_feature_names_out())\n",
    "cvec2_text.head()"
   ]
  },
  {
   "cell_type": "code",
   "execution_count": 72,
   "id": "3ae3faa2",
   "metadata": {},
   "outputs": [
    {
     "data": {
      "text/plain": [
       "<Axes: >"
      ]
     },
     "execution_count": 72,
     "metadata": {},
     "output_type": "execute_result"
    },
    {
     "data": {
      "image/png": "[encoded data removed]",
      "text/plain": [
       "<Figure size 1500x800 with 1 Axes>"
      ]
     },
     "metadata": {},
     "output_type": "display_data"
    }
   ],
   "source": [
    "plt.figure(figsize=(15,8))\n",
    "cvec2_text.sum().sort_values(ascending=False).head(20).plot(kind='barh')"
   ]
  },
  {
   "cell_type": "code",
   "execution_count": 73,
   "id": "33f1b104",
   "metadata": {},
   "outputs": [
    {
     "data": {
      "text/plain": [
       "<Axes: >"
      ]
     },
     "execution_count": 73,
     "metadata": {},
     "output_type": "execute_result"
    },
    {
     "name": "stderr",
     "output_type": "stream",
     "text": [
      "/Users/anaconda3/lib/python3.11/site-packages/IPython/core/events.py:89: UserWarning: Glyph 2999 (\\N{TAMIL LETTER SSA}) missing from current font.\n",
      "  func(*args, **kwargs)\n",
      "/Users/anaconda3/lib/python3.11/site-packages/IPython/core/events.py:89: UserWarning: Matplotlib currently does not support Tamil natively.\n",
      "  func(*args, **kwargs)\n",
      "/Users/anaconda3/lib/python3.11/site-packages/IPython/core/events.py:89: UserWarning: Glyph 2985 (\\N{TAMIL LETTER NNNA}) missing from current font.\n",
      "  func(*args, **kwargs)\n",
      "/Users/anaconda3/lib/python3.11/site-packages/IPython/core/pylabtools.py:152: UserWarning: Glyph 2999 (\\N{TAMIL LETTER SSA}) missing from current font.\n",
      "  fig.canvas.print_figure(bytes_io, **kw)\n",
      "/Users/anaconda3/lib/python3.11/site-packages/IPython/core/pylabtools.py:152: UserWarning: Matplotlib currently does not support Tamil natively.\n",
      "  fig.canvas.print_figure(bytes_io, **kw)\n",
      "/Users/anaconda3/lib/python3.11/site-packages/IPython/core/pylabtools.py:152: UserWarning: Glyph 2985 (\\N{TAMIL LETTER NNNA}) missing from current font.\n",
      "  fig.canvas.print_figure(bytes_io, **kw)\n"
     ]
    },
    {
     "data": {
      "image/png": "[encoded data removed]",
      "text/plain": [
       "<Figure size 1500x800 with 1 Axes>"
      ]
     },
     "metadata": {},
     "output_type": "display_data"
    }
   ],
   "source": [
    "plt.figure(figsize=(15,8))\n",
    "cvec2_text.sum().sort_values(ascending=False).tail(20).plot(kind='barh')"
   ]
  },
  {
   "cell_type": "markdown",
   "id": "143e8354",
   "metadata": {},
   "source": [
    "### Merging DataFrames"
   ]
  },
  {
   "cell_type": "code",
   "execution_count": 74,
   "id": "5e2fc27b",
   "metadata": {},
   "outputs": [
    {
     "data": {
      "text/plain": [
       "Scams           1084\n",
       "phishing        1030\n",
       "moviereviews     925\n",
       "Malware          611\n",
       "scam_radar        72\n",
       "Name: subreddit, dtype: int64"
      ]
     },
     "execution_count": 74,
     "metadata": {},
     "output_type": "execute_result"
    }
   ],
   "source": [
    "df = pd.concat([spamposts, moviereviews], axis=0)\n",
    "df['subreddit'].value_counts()"
   ]
  },
  {
   "cell_type": "code",
   "execution_count": 75,
   "id": "c157faa6",
   "metadata": {},
   "outputs": [
    {
     "data": {
      "text/html": [
       "<div>\n",
       "<style scoped>\n",
       "    .dataframe tbody tr th:only-of-type {\n",
       "        vertical-align: middle;\n",
       "    }\n",
       "\n",
       "    .dataframe tbody tr th {\n",
       "        vertical-align: top;\n",
       "    }\n",
       "\n",
       "    .dataframe thead th {\n",
       "        text-align: right;\n",
       "    }\n",
       "</style>\n",
       "<table border=\"1\" class=\"dataframe\">\n",
       "  <thead>\n",
       "    <tr style=\"text-align: right;\">\n",
       "      <th></th>\n",
       "      <th>created_utc</th>\n",
       "      <th>title</th>\n",
       "      <th>self_text</th>\n",
       "      <th>subreddit</th>\n",
       "      <th>self_text_len</th>\n",
       "      <th>self_text_count</th>\n",
       "      <th>punc_count</th>\n",
       "    </tr>\n",
       "  </thead>\n",
       "  <tbody>\n",
       "    <tr>\n",
       "      <th>0</th>\n",
       "      <td>1.697589e+09</td>\n",
       "      <td>Is my friend about to be scammed?</td>\n",
       "      <td>Friend of mine from back in Uni (before we mov...</td>\n",
       "      <td>Scams</td>\n",
       "      <td>939</td>\n",
       "      <td>183</td>\n",
       "      <td>32.0</td>\n",
       "    </tr>\n",
       "    <tr>\n",
       "      <th>1</th>\n",
       "      <td>1.697586e+09</td>\n",
       "      <td>Just Delt with an AirBnB Scam anyone can do an...</td>\n",
       "      <td>Apparently you can instant book seasonal renta...</td>\n",
       "      <td>Scams</td>\n",
       "      <td>481</td>\n",
       "      <td>92</td>\n",
       "      <td>4.0</td>\n",
       "    </tr>\n",
       "    <tr>\n",
       "      <th>2</th>\n",
       "      <td>1.697586e+09</td>\n",
       "      <td>Spam caller knew my name and 'address' but it ...</td>\n",
       "      <td>First off I am new to posting on Reddit so ple...</td>\n",
       "      <td>Scams</td>\n",
       "      <td>1377</td>\n",
       "      <td>254</td>\n",
       "      <td>27.0</td>\n",
       "    </tr>\n",
       "    <tr>\n",
       "      <th>3</th>\n",
       "      <td>1.697587e+09</td>\n",
       "      <td>I am waiting on a package…</td>\n",
       "      <td>So, I got this text message and I’m trying to ...</td>\n",
       "      <td>Scams</td>\n",
       "      <td>192</td>\n",
       "      <td>41</td>\n",
       "      <td>5.0</td>\n",
       "    </tr>\n",
       "    <tr>\n",
       "      <th>4</th>\n",
       "      <td>1.697586e+09</td>\n",
       "      <td>Snapchat Minor Solicitation Scam?</td>\n",
       "      <td>Added a girl on Snapchat from Omegle. Look at ...</td>\n",
       "      <td>Scams</td>\n",
       "      <td>866</td>\n",
       "      <td>161</td>\n",
       "      <td>24.0</td>\n",
       "    </tr>\n",
       "  </tbody>\n",
       "</table>\n",
       "</div>"
      ],
      "text/plain": [
       "    created_utc                                              title  \\\n",
       "0  1.697589e+09                  Is my friend about to be scammed?   \n",
       "1  1.697586e+09  Just Delt with an AirBnB Scam anyone can do an...   \n",
       "2  1.697586e+09  Spam caller knew my name and 'address' but it ...   \n",
       "3  1.697587e+09                         I am waiting on a package…   \n",
       "4  1.697586e+09                  Snapchat Minor Solicitation Scam?   \n",
       "\n",
       "                                           self_text subreddit  self_text_len  \\\n",
       "0  Friend of mine from back in Uni (before we mov...     Scams            939   \n",
       "1  Apparently you can instant book seasonal renta...     Scams            481   \n",
       "2  First off I am new to posting on Reddit so ple...     Scams           1377   \n",
       "3  So, I got this text message and I’m trying to ...     Scams            192   \n",
       "4  Added a girl on Snapchat from Omegle. Look at ...     Scams            866   \n",
       "\n",
       "   self_text_count  punc_count  \n",
       "0              183        32.0  \n",
       "1               92         4.0  \n",
       "2              254        27.0  \n",
       "3               41         5.0  \n",
       "4              161        24.0  "
      ]
     },
     "execution_count": 75,
     "metadata": {},
     "output_type": "execute_result"
    }
   ],
   "source": [
    "df.head()"
   ]
  },
  {
   "cell_type": "code",
   "execution_count": 78,
   "id": "a0863365",
   "metadata": {},
   "outputs": [],
   "source": [
    "df.to_csv('../Data/merged_data.csv', index=False)"
   ]
  }
 ],
 "metadata": {
  "kernelspec": {
   "display_name": "Python 3 (ipykernel)",
   "language": "python",
   "name": "python3"
  },
  "language_info": {
   "codemirror_mode": {
    "name": "ipython",
    "version": 3
   },
   "file_extension": ".py",
   "mimetype": "text/x-python",
   "name": "python",
   "nbconvert_exporter": "python",
   "pygments_lexer": "ipython3",
   "version": "3.11.4"
  }
 },
 "nbformat": 4,
 "nbformat_minor": 5
}
